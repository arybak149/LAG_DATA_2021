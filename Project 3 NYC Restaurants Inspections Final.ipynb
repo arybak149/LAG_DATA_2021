{
 "cells": [
  {
   "cell_type": "code",
   "execution_count": 1,
   "metadata": {},
   "outputs": [],
   "source": [
    "#Importing needed libraries for project #3\n",
    "import pandas as pd\n",
    "import numpy as np\n",
    "import matplotlib\n",
    "import matplotlib.pyplot as plt\n",
    "%matplotlib inline\n",
    "import seaborn as sns"
   ]
  },
  {
   "cell_type": "code",
   "execution_count": 2,
   "metadata": {},
   "outputs": [
    {
     "data": {
      "text/html": [
       "<div>\n",
       "<style scoped>\n",
       "    .dataframe tbody tr th:only-of-type {\n",
       "        vertical-align: middle;\n",
       "    }\n",
       "\n",
       "    .dataframe tbody tr th {\n",
       "        vertical-align: top;\n",
       "    }\n",
       "\n",
       "    .dataframe thead th {\n",
       "        text-align: right;\n",
       "    }\n",
       "</style>\n",
       "<table border=\"1\" class=\"dataframe\">\n",
       "  <thead>\n",
       "    <tr style=\"text-align: right;\">\n",
       "      <th></th>\n",
       "      <th>CAMIS</th>\n",
       "      <th>DBA</th>\n",
       "      <th>BORO</th>\n",
       "      <th>BUILDING</th>\n",
       "      <th>STREET</th>\n",
       "      <th>ZIPCODE</th>\n",
       "      <th>PHONE</th>\n",
       "      <th>CUISINE DESCRIPTION</th>\n",
       "      <th>INSPECTION DATE</th>\n",
       "      <th>ACTION</th>\n",
       "      <th>...</th>\n",
       "      <th>RECORD DATE</th>\n",
       "      <th>INSPECTION TYPE</th>\n",
       "      <th>Latitude</th>\n",
       "      <th>Longitude</th>\n",
       "      <th>Community Board</th>\n",
       "      <th>Council District</th>\n",
       "      <th>Census Tract</th>\n",
       "      <th>BIN</th>\n",
       "      <th>BBL</th>\n",
       "      <th>NTA</th>\n",
       "    </tr>\n",
       "  </thead>\n",
       "  <tbody>\n",
       "    <tr>\n",
       "      <th>0</th>\n",
       "      <td>50106407</td>\n",
       "      <td>NaN</td>\n",
       "      <td>Queens</td>\n",
       "      <td>12615</td>\n",
       "      <td>LIBERTY AVE</td>\n",
       "      <td>11419.0</td>\n",
       "      <td>7188447300</td>\n",
       "      <td>NaN</td>\n",
       "      <td>01/01/1900</td>\n",
       "      <td>NaN</td>\n",
       "      <td>...</td>\n",
       "      <td>07/15/2021</td>\n",
       "      <td>NaN</td>\n",
       "      <td>40.688685</td>\n",
       "      <td>-73.817858</td>\n",
       "      <td>410.0</td>\n",
       "      <td>28.0</td>\n",
       "      <td>15802.0</td>\n",
       "      <td>4203949.0</td>\n",
       "      <td>4.095630e+09</td>\n",
       "      <td>QN55</td>\n",
       "    </tr>\n",
       "    <tr>\n",
       "      <th>1</th>\n",
       "      <td>50018473</td>\n",
       "      <td>PRESTIGE</td>\n",
       "      <td>Queens</td>\n",
       "      <td>9133</td>\n",
       "      <td>63RD DR</td>\n",
       "      <td>11374.0</td>\n",
       "      <td>7182752209</td>\n",
       "      <td>Jewish/Kosher</td>\n",
       "      <td>07/28/2016</td>\n",
       "      <td>Violations were cited in the following area(s).</td>\n",
       "      <td>...</td>\n",
       "      <td>07/15/2021</td>\n",
       "      <td>Cycle Inspection / Re-inspection</td>\n",
       "      <td>40.726943</td>\n",
       "      <td>-73.864400</td>\n",
       "      <td>406.0</td>\n",
       "      <td>29.0</td>\n",
       "      <td>69500.0</td>\n",
       "      <td>4072814.0</td>\n",
       "      <td>4.031030e+09</td>\n",
       "      <td>QN18</td>\n",
       "    </tr>\n",
       "    <tr>\n",
       "      <th>2</th>\n",
       "      <td>50072808</td>\n",
       "      <td>CANELA COLOMBIAN RESTAURANT &amp; BAKERY</td>\n",
       "      <td>Brooklyn</td>\n",
       "      <td>4601</td>\n",
       "      <td>5 AVENUE</td>\n",
       "      <td>11220.0</td>\n",
       "      <td>7185763491</td>\n",
       "      <td>Spanish</td>\n",
       "      <td>02/27/2018</td>\n",
       "      <td>Violations were cited in the following area(s).</td>\n",
       "      <td>...</td>\n",
       "      <td>07/15/2021</td>\n",
       "      <td>Pre-permit (Operational) / Re-inspection</td>\n",
       "      <td>40.647251</td>\n",
       "      <td>-74.008068</td>\n",
       "      <td>307.0</td>\n",
       "      <td>38.0</td>\n",
       "      <td>9600.0</td>\n",
       "      <td>3011895.0</td>\n",
       "      <td>3.007570e+09</td>\n",
       "      <td>BK34</td>\n",
       "    </tr>\n",
       "  </tbody>\n",
       "</table>\n",
       "<p>3 rows × 26 columns</p>\n",
       "</div>"
      ],
      "text/plain": [
       "      CAMIS                                   DBA      BORO BUILDING  \\\n",
       "0  50106407                                   NaN    Queens    12615   \n",
       "1  50018473                              PRESTIGE    Queens     9133   \n",
       "2  50072808  CANELA COLOMBIAN RESTAURANT & BAKERY  Brooklyn     4601   \n",
       "\n",
       "        STREET  ZIPCODE       PHONE CUISINE DESCRIPTION INSPECTION DATE  \\\n",
       "0  LIBERTY AVE  11419.0  7188447300                 NaN      01/01/1900   \n",
       "1      63RD DR  11374.0  7182752209       Jewish/Kosher      07/28/2016   \n",
       "2     5 AVENUE  11220.0  7185763491             Spanish      02/27/2018   \n",
       "\n",
       "                                            ACTION  ... RECORD DATE  \\\n",
       "0                                              NaN  ...  07/15/2021   \n",
       "1  Violations were cited in the following area(s).  ...  07/15/2021   \n",
       "2  Violations were cited in the following area(s).  ...  07/15/2021   \n",
       "\n",
       "                            INSPECTION TYPE   Latitude  Longitude  \\\n",
       "0                                       NaN  40.688685 -73.817858   \n",
       "1          Cycle Inspection / Re-inspection  40.726943 -73.864400   \n",
       "2  Pre-permit (Operational) / Re-inspection  40.647251 -74.008068   \n",
       "\n",
       "  Community Board Council District Census Tract        BIN           BBL   NTA  \n",
       "0           410.0             28.0      15802.0  4203949.0  4.095630e+09  QN55  \n",
       "1           406.0             29.0      69500.0  4072814.0  4.031030e+09  QN18  \n",
       "2           307.0             38.0       9600.0  3011895.0  3.007570e+09  BK34  \n",
       "\n",
       "[3 rows x 26 columns]"
      ]
     },
     "execution_count": 2,
     "metadata": {},
     "output_type": "execute_result"
    }
   ],
   "source": [
    "#Loading original data into dataframe\n",
    "df = pd.read_csv(r'C:\\Users\\pumci\\Downloads\\DOHMH_New_York_City_Restaurant_Inspection_Results.csv') \n",
    "#Printing first three observations\n",
    "df.head(3)"
   ]
  },
  {
   "cell_type": "code",
   "execution_count": 3,
   "metadata": {},
   "outputs": [
    {
     "data": {
      "text/html": [
       "<div>\n",
       "<style scoped>\n",
       "    .dataframe tbody tr th:only-of-type {\n",
       "        vertical-align: middle;\n",
       "    }\n",
       "\n",
       "    .dataframe tbody tr th {\n",
       "        vertical-align: top;\n",
       "    }\n",
       "\n",
       "    .dataframe thead th {\n",
       "        text-align: right;\n",
       "    }\n",
       "</style>\n",
       "<table border=\"1\" class=\"dataframe\">\n",
       "  <thead>\n",
       "    <tr style=\"text-align: right;\">\n",
       "      <th></th>\n",
       "      <th>CAMIS</th>\n",
       "      <th>DBA</th>\n",
       "      <th>BORO</th>\n",
       "      <th>BUILDING</th>\n",
       "      <th>STREET</th>\n",
       "      <th>ZIPCODE</th>\n",
       "      <th>PHONE</th>\n",
       "      <th>CUISINE DESCRIPTION</th>\n",
       "      <th>INSPECTION DATE</th>\n",
       "      <th>ACTION</th>\n",
       "      <th>...</th>\n",
       "      <th>RECORD DATE</th>\n",
       "      <th>INSPECTION TYPE</th>\n",
       "      <th>Latitude</th>\n",
       "      <th>Longitude</th>\n",
       "      <th>Community Board</th>\n",
       "      <th>Council District</th>\n",
       "      <th>Census Tract</th>\n",
       "      <th>BIN</th>\n",
       "      <th>BBL</th>\n",
       "      <th>NTA</th>\n",
       "    </tr>\n",
       "  </thead>\n",
       "  <tbody>\n",
       "    <tr>\n",
       "      <th>414966</th>\n",
       "      <td>50001249</td>\n",
       "      <td>TIGIN IRISH PUB, PEETS COFFEE&amp;TEA/CANAL STREET...</td>\n",
       "      <td>Queens</td>\n",
       "      <td>NKA</td>\n",
       "      <td>JFK INTERNATIONAL AIRPORT</td>\n",
       "      <td>11430.0</td>\n",
       "      <td>7187514765</td>\n",
       "      <td>American</td>\n",
       "      <td>08/17/2016</td>\n",
       "      <td>Violations were cited in the following area(s).</td>\n",
       "      <td>...</td>\n",
       "      <td>07/15/2021</td>\n",
       "      <td>Cycle Inspection / Re-inspection</td>\n",
       "      <td>40.648313</td>\n",
       "      <td>-73.788281</td>\n",
       "      <td>483.0</td>\n",
       "      <td>28.0</td>\n",
       "      <td>71600.0</td>\n",
       "      <td>4000000.0</td>\n",
       "      <td>4.142600e+09</td>\n",
       "      <td>QN98</td>\n",
       "    </tr>\n",
       "    <tr>\n",
       "      <th>414967</th>\n",
       "      <td>50037651</td>\n",
       "      <td>SABOR TROPICAL</td>\n",
       "      <td>Manhattan</td>\n",
       "      <td>143</td>\n",
       "      <td>SHERMAN AVENUE</td>\n",
       "      <td>10034.0</td>\n",
       "      <td>2123045144</td>\n",
       "      <td>Latin American</td>\n",
       "      <td>04/23/2018</td>\n",
       "      <td>Violations were cited in the following area(s).</td>\n",
       "      <td>...</td>\n",
       "      <td>07/15/2021</td>\n",
       "      <td>Cycle Inspection / Initial Inspection</td>\n",
       "      <td>40.864534</td>\n",
       "      <td>-73.923368</td>\n",
       "      <td>112.0</td>\n",
       "      <td>10.0</td>\n",
       "      <td>29100.0</td>\n",
       "      <td>1064764.0</td>\n",
       "      <td>1.022210e+09</td>\n",
       "      <td>MN01</td>\n",
       "    </tr>\n",
       "    <tr>\n",
       "      <th>414968</th>\n",
       "      <td>50060390</td>\n",
       "      <td>CHOP'T</td>\n",
       "      <td>Manhattan</td>\n",
       "      <td>350</td>\n",
       "      <td>5 AVENUE</td>\n",
       "      <td>10118.0</td>\n",
       "      <td>2129679380</td>\n",
       "      <td>Salads</td>\n",
       "      <td>06/15/2018</td>\n",
       "      <td>Violations were cited in the following area(s).</td>\n",
       "      <td>...</td>\n",
       "      <td>07/15/2021</td>\n",
       "      <td>Cycle Inspection / Initial Inspection</td>\n",
       "      <td>40.748269</td>\n",
       "      <td>-73.984690</td>\n",
       "      <td>105.0</td>\n",
       "      <td>4.0</td>\n",
       "      <td>7600.0</td>\n",
       "      <td>1015862.0</td>\n",
       "      <td>1.008350e+09</td>\n",
       "      <td>MN17</td>\n",
       "    </tr>\n",
       "  </tbody>\n",
       "</table>\n",
       "<p>3 rows × 26 columns</p>\n",
       "</div>"
      ],
      "text/plain": [
       "           CAMIS                                                DBA  \\\n",
       "414966  50001249  TIGIN IRISH PUB, PEETS COFFEE&TEA/CANAL STREET...   \n",
       "414967  50037651                                     SABOR TROPICAL   \n",
       "414968  50060390                                             CHOP'T   \n",
       "\n",
       "             BORO BUILDING                     STREET  ZIPCODE       PHONE  \\\n",
       "414966     Queens      NKA  JFK INTERNATIONAL AIRPORT  11430.0  7187514765   \n",
       "414967  Manhattan      143             SHERMAN AVENUE  10034.0  2123045144   \n",
       "414968  Manhattan      350                   5 AVENUE  10118.0  2129679380   \n",
       "\n",
       "       CUISINE DESCRIPTION INSPECTION DATE  \\\n",
       "414966            American      08/17/2016   \n",
       "414967      Latin American      04/23/2018   \n",
       "414968              Salads      06/15/2018   \n",
       "\n",
       "                                                 ACTION  ... RECORD DATE  \\\n",
       "414966  Violations were cited in the following area(s).  ...  07/15/2021   \n",
       "414967  Violations were cited in the following area(s).  ...  07/15/2021   \n",
       "414968  Violations were cited in the following area(s).  ...  07/15/2021   \n",
       "\n",
       "                              INSPECTION TYPE   Latitude  Longitude  \\\n",
       "414966       Cycle Inspection / Re-inspection  40.648313 -73.788281   \n",
       "414967  Cycle Inspection / Initial Inspection  40.864534 -73.923368   \n",
       "414968  Cycle Inspection / Initial Inspection  40.748269 -73.984690   \n",
       "\n",
       "       Community Board Council District Census Tract        BIN           BBL  \\\n",
       "414966           483.0             28.0      71600.0  4000000.0  4.142600e+09   \n",
       "414967           112.0             10.0      29100.0  1064764.0  1.022210e+09   \n",
       "414968           105.0              4.0       7600.0  1015862.0  1.008350e+09   \n",
       "\n",
       "         NTA  \n",
       "414966  QN98  \n",
       "414967  MN01  \n",
       "414968  MN17  \n",
       "\n",
       "[3 rows x 26 columns]"
      ]
     },
     "execution_count": 3,
     "metadata": {},
     "output_type": "execute_result"
    }
   ],
   "source": [
    "#Printing last three observations\n",
    "df.tail(3)"
   ]
  },
  {
   "cell_type": "code",
   "execution_count": 4,
   "metadata": {},
   "outputs": [
    {
     "data": {
      "text/plain": [
       "(414969, 26)"
      ]
     },
     "execution_count": 4,
     "metadata": {},
     "output_type": "execute_result"
    }
   ],
   "source": [
    "#Checking dataset's size\n",
    "df.shape"
   ]
  },
  {
   "cell_type": "code",
   "execution_count": 5,
   "metadata": {},
   "outputs": [
    {
     "name": "stdout",
     "output_type": "stream",
     "text": [
      "<class 'pandas.core.frame.DataFrame'>\n",
      "RangeIndex: 414969 entries, 0 to 414968\n",
      "Data columns (total 26 columns):\n",
      " #   Column                 Non-Null Count   Dtype  \n",
      "---  ------                 --------------   -----  \n",
      " 0   CAMIS                  414969 non-null  int64  \n",
      " 1   DBA                    413948 non-null  object \n",
      " 2   BORO                   414969 non-null  object \n",
      " 3   BUILDING               414206 non-null  object \n",
      " 4   STREET                 414917 non-null  object \n",
      " 5   ZIPCODE                408444 non-null  float64\n",
      " 6   PHONE                  414929 non-null  object \n",
      " 7   CUISINE DESCRIPTION    410000 non-null  object \n",
      " 8   INSPECTION DATE        414969 non-null  object \n",
      " 9   ACTION                 410001 non-null  object \n",
      " 10  VIOLATION CODE         404703 non-null  object \n",
      " 11  VIOLATION DESCRIPTION  407454 non-null  object \n",
      " 12  CRITICAL FLAG          414969 non-null  object \n",
      " 13  SCORE                  394733 non-null  float64\n",
      " 14  GRADE                  211918 non-null  object \n",
      " 15  GRADE DATE             209456 non-null  object \n",
      " 16  RECORD DATE            414969 non-null  object \n",
      " 17  INSPECTION TYPE        410001 non-null  object \n",
      " 18  Latitude               414515 non-null  float64\n",
      " 19  Longitude              414515 non-null  float64\n",
      " 20  Community Board        407425 non-null  float64\n",
      " 21  Council District       407425 non-null  float64\n",
      " 22  Census Tract           407425 non-null  float64\n",
      " 23  BIN                    405503 non-null  float64\n",
      " 24  BBL                    413898 non-null  float64\n",
      " 25  NTA                    407425 non-null  object \n",
      "dtypes: float64(9), int64(1), object(16)\n",
      "memory usage: 82.3+ MB\n"
     ]
    }
   ],
   "source": [
    "#Priniting dtype"
   ]
  },
  {
   "cell_type": "code",
   "execution_count": 6,
   "metadata": {},
   "outputs": [
    {
     "data": {
      "text/plain": [
       "Index(['CAMIS', 'DBA', 'BORO', 'BUILDING', 'STREET', 'ZIPCODE', 'PHONE',\n",
       "       'CUISINE DESCRIPTION', 'INSPECTION DATE', 'ACTION', 'VIOLATION CODE',\n",
       "       'VIOLATION DESCRIPTION', 'CRITICAL FLAG', 'SCORE', 'GRADE',\n",
       "       'GRADE DATE', 'RECORD DATE', 'INSPECTION TYPE', 'Latitude', 'Longitude',\n",
       "       'Community Board', 'Council District', 'Census Tract', 'BIN', 'BBL',\n",
       "       'NTA'],\n",
       "      dtype='object')"
      ]
     },
     "execution_count": 6,
     "metadata": {},
     "output_type": "execute_result"
    }
   ],
   "source": [
    "#Getting coulmns in the dataset\n",
    "df.columns"
   ]
  },
  {
   "cell_type": "code",
   "execution_count": 7,
   "metadata": {},
   "outputs": [
    {
     "data": {
      "text/plain": [
       "Manhattan        162838\n",
       "Brooklyn         105672\n",
       "Queens            94182\n",
       "Bronx             38108\n",
       "Staten Island     14022\n",
       "0                   147\n",
       "Name: BORO, dtype: int64"
      ]
     },
     "execution_count": 7,
     "metadata": {},
     "output_type": "execute_result"
    }
   ],
   "source": [
    "#Finding out # of inspections per borough\n",
    "df.BORO.value_counts()"
   ]
  },
  {
   "cell_type": "code",
   "execution_count": 10,
   "metadata": {},
   "outputs": [
    {
     "data": {
      "text/plain": [
       "Manhattan        162838\n",
       "Brooklyn         105672\n",
       "Queens            94182\n",
       "Bronx             38108\n",
       "Staten Island     14022\n",
       "Name: BORO, dtype: int64"
      ]
     },
     "execution_count": 10,
     "metadata": {},
     "output_type": "execute_result"
    }
   ],
   "source": [
    "#Replacing '0' to Not a Number (NaN)\n",
    "df1 = df.replace('0', np.nan)\n",
    "#Dropping rows in columns BORO with NaN\n",
    "df2 = df1.dropna(subset = [\"BORO\"])\n",
    "df2.BORO.value_counts()"
   ]
  },
  {
   "cell_type": "code",
   "execution_count": 12,
   "metadata": {},
   "outputs": [
    {
     "data": {
      "image/png": "[encoded data removed]",
      "text/plain": [
       "<Figure size 864x432 with 1 Axes>"
      ]
     },
     "metadata": {
      "needs_background": "light"
     },
     "output_type": "display_data"
    }
   ],
   "source": [
    "#Bar chart of inspections per borough\n",
    "fig = plt.figure(figsize=(12,6))\n",
    "sns.countplot(x='BORO', data=df2, palette='cool')\n",
    "plt.xlabel('Borough')\n",
    "plt.ylabel('Count')\n",
    "plt.title('Number of NYC Restaurant Inspections per Borough', fontsize=15)\n",
    "plt.show()"
   ]
  },
  {
   "cell_type": "code",
   "execution_count": 13,
   "metadata": {},
   "outputs": [
    {
     "name": "stderr",
     "output_type": "stream",
     "text": [
      "C:\\Users\\pumci\\anaconda3\\lib\\site-packages\\ipykernel_launcher.py:1: SettingWithCopyWarning: \n",
      "A value is trying to be set on a copy of a slice from a DataFrame.\n",
      "Try using .loc[row_indexer,col_indexer] = value instead\n",
      "\n",
      "See the caveats in the documentation: https://pandas.pydata.org/pandas-docs/stable/user_guide/indexing.html#returning-a-view-versus-a-copy\n",
      "  \"\"\"Entry point for launching an IPython kernel.\n"
     ]
    }
   ],
   "source": [
    "#Replacing Z -> Grade Pending\n",
    "df2['GRADE'] = df2['GRADE'].replace(to_replace = 'Z', value='Grade Pending')"
   ]
  },
  {
   "cell_type": "code",
   "execution_count": 14,
   "metadata": {},
   "outputs": [
    {
     "name": "stderr",
     "output_type": "stream",
     "text": [
      "C:\\Users\\pumci\\anaconda3\\lib\\site-packages\\ipykernel_launcher.py:1: SettingWithCopyWarning: \n",
      "A value is trying to be set on a copy of a slice from a DataFrame.\n",
      "Try using .loc[row_indexer,col_indexer] = value instead\n",
      "\n",
      "See the caveats in the documentation: https://pandas.pydata.org/pandas-docs/stable/user_guide/indexing.html#returning-a-view-versus-a-copy\n",
      "  \"\"\"Entry point for launching an IPython kernel.\n"
     ]
    }
   ],
   "source": [
    "#Replacing P -> Grade Pending\n",
    "df2['GRADE'] = df2['GRADE'].replace(to_replace = 'P', value='Grade Pending')"
   ]
  },
  {
   "cell_type": "code",
   "execution_count": 15,
   "metadata": {},
   "outputs": [
    {
     "name": "stderr",
     "output_type": "stream",
     "text": [
      "C:\\Users\\pumci\\anaconda3\\lib\\site-packages\\ipykernel_launcher.py:1: SettingWithCopyWarning: \n",
      "A value is trying to be set on a copy of a slice from a DataFrame.\n",
      "Try using .loc[row_indexer,col_indexer] = value instead\n",
      "\n",
      "See the caveats in the documentation: https://pandas.pydata.org/pandas-docs/stable/user_guide/indexing.html#returning-a-view-versus-a-copy\n",
      "  \"\"\"Entry point for launching an IPython kernel.\n"
     ]
    }
   ],
   "source": [
    "#Replacing N -> Not Yet Graded\n",
    "df2['GRADE'] = df2['GRADE'].replace(to_replace = 'N', value='Not Yet Graded')"
   ]
  },
  {
   "cell_type": "code",
   "execution_count": 16,
   "metadata": {},
   "outputs": [
    {
     "name": "stderr",
     "output_type": "stream",
     "text": [
      "C:\\Users\\pumci\\anaconda3\\lib\\site-packages\\ipykernel_launcher.py:1: SettingWithCopyWarning: \n",
      "A value is trying to be set on a copy of a slice from a DataFrame.\n",
      "Try using .loc[row_indexer,col_indexer] = value instead\n",
      "\n",
      "See the caveats in the documentation: https://pandas.pydata.org/pandas-docs/stable/user_guide/indexing.html#returning-a-view-versus-a-copy\n",
      "  \"\"\"Entry point for launching an IPython kernel.\n"
     ]
    }
   ],
   "source": [
    "#Replacing G -> Grade Pending\n",
    "df2['GRADE'] = df2['GRADE'].replace(to_replace = 'G', value='Grade Pending')"
   ]
  },
  {
   "cell_type": "code",
   "execution_count": 17,
   "metadata": {},
   "outputs": [
    {
     "data": {
      "text/html": [
       "<div>\n",
       "<style scoped>\n",
       "    .dataframe tbody tr th:only-of-type {\n",
       "        vertical-align: middle;\n",
       "    }\n",
       "\n",
       "    .dataframe tbody tr th {\n",
       "        vertical-align: top;\n",
       "    }\n",
       "\n",
       "    .dataframe thead th {\n",
       "        text-align: right;\n",
       "    }\n",
       "</style>\n",
       "<table border=\"1\" class=\"dataframe\">\n",
       "  <thead>\n",
       "    <tr style=\"text-align: right;\">\n",
       "      <th>GRADE</th>\n",
       "      <th>A</th>\n",
       "      <th>B</th>\n",
       "      <th>C</th>\n",
       "      <th>Grade Pending</th>\n",
       "      <th>Not Yet Graded</th>\n",
       "    </tr>\n",
       "    <tr>\n",
       "      <th>BORO</th>\n",
       "      <th></th>\n",
       "      <th></th>\n",
       "      <th></th>\n",
       "      <th></th>\n",
       "      <th></th>\n",
       "    </tr>\n",
       "  </thead>\n",
       "  <tbody>\n",
       "    <tr>\n",
       "      <th>Bronx</th>\n",
       "      <td>15353</td>\n",
       "      <td>2936</td>\n",
       "      <td>1098</td>\n",
       "      <td>334</td>\n",
       "      <td>131</td>\n",
       "    </tr>\n",
       "    <tr>\n",
       "      <th>Brooklyn</th>\n",
       "      <td>42560</td>\n",
       "      <td>6810</td>\n",
       "      <td>2419</td>\n",
       "      <td>1031</td>\n",
       "      <td>715</td>\n",
       "    </tr>\n",
       "    <tr>\n",
       "      <th>Manhattan</th>\n",
       "      <td>66611</td>\n",
       "      <td>9920</td>\n",
       "      <td>4003</td>\n",
       "      <td>1170</td>\n",
       "      <td>903</td>\n",
       "    </tr>\n",
       "    <tr>\n",
       "      <th>Queens</th>\n",
       "      <td>38696</td>\n",
       "      <td>6011</td>\n",
       "      <td>2383</td>\n",
       "      <td>774</td>\n",
       "      <td>610</td>\n",
       "    </tr>\n",
       "    <tr>\n",
       "      <th>Staten Island</th>\n",
       "      <td>6010</td>\n",
       "      <td>893</td>\n",
       "      <td>274</td>\n",
       "      <td>90</td>\n",
       "      <td>110</td>\n",
       "    </tr>\n",
       "  </tbody>\n",
       "</table>\n",
       "</div>"
      ],
      "text/plain": [
       "GRADE              A     B     C  Grade Pending  Not Yet Graded\n",
       "BORO                                                           \n",
       "Bronx          15353  2936  1098            334             131\n",
       "Brooklyn       42560  6810  2419           1031             715\n",
       "Manhattan      66611  9920  4003           1170             903\n",
       "Queens         38696  6011  2383            774             610\n",
       "Staten Island   6010   893   274             90             110"
      ]
     },
     "execution_count": 17,
     "metadata": {},
     "output_type": "execute_result"
    }
   ],
   "source": [
    "boro_grade = pd.crosstab(df2.BORO, df2.GRADE)\n",
    "boro_grade"
   ]
  },
  {
   "cell_type": "code",
   "execution_count": 18,
   "metadata": {},
   "outputs": [
    {
     "data": {
      "text/plain": [
       "Text(0, 0.5, 'Borough')"
      ]
     },
     "execution_count": 18,
     "metadata": {},
     "output_type": "execute_result"
    },
    {
     "data": {
      "image/png": "[encoded data removed]",
      "text/plain": [
       "<Figure size 936x504 with 1 Axes>"
      ]
     },
     "metadata": {
      "needs_background": "light"
     },
     "output_type": "display_data"
    }
   ],
   "source": [
    "#Plot of grade by borough (%)\n",
    "stacked_data = boro_grade.apply(lambda x: x*100/sum(x), axis=1)\n",
    "stacked_data.plot(kind=\"barh\", figsize=(13,7), stacked=True).legend(bbox_to_anchor=(0.5, -0.26),\n",
    "              loc='lower center', ncol=30, fontsize=16, title=\"Restaurant Inspection Letter Grades\")\n",
    "plt.title('Grade Distribution by Borough', fontsize=15)\n",
    "plt.xlabel(\"Precentage (%)\")\n",
    "plt.ylabel(\"Borough\")"
   ]
  },
  {
   "cell_type": "code",
   "execution_count": 19,
   "metadata": {},
   "outputs": [
    {
     "data": {
      "text/plain": [
       "<pandas.core.groupby.generic.DataFrameGroupBy object at 0x0000025A840D8248>"
      ]
     },
     "execution_count": 19,
     "metadata": {},
     "output_type": "execute_result"
    }
   ],
   "source": [
    "df3 = df2.query('GRADE== \"A\"')\n",
    "df4 = df3.groupby('CRITICAL FLAG')\n",
    "df4"
   ]
  },
  {
   "cell_type": "code",
   "execution_count": 41,
   "metadata": {},
   "outputs": [
    {
     "data": {
      "text/plain": [
       "Text(0, 0.5, 'Count')"
      ]
     },
     "execution_count": 41,
     "metadata": {},
     "output_type": "execute_result"
    },
    {
     "data": {
      "image/png": "[encoded data removed]",
      "text/plain": [
       "<Figure size 864x432 with 1 Axes>"
      ]
     },
     "metadata": {
      "needs_background": "light"
     },
     "output_type": "display_data"
    }
   ],
   "source": [
    "# Graphical representation of the critical flag\n",
    "df4['CRITICAL FLAG'].hist(figsize=(12,6))\n",
    "plt.title('Count of Critical Flags for Grade A', fontsize = 15)\n",
    "plt.xlabel('Flag', fontsize = 12)\n",
    "plt.ylabel('Count', fontsize = 12)"
   ]
  },
  {
   "cell_type": "code",
   "execution_count": 20,
   "metadata": {},
   "outputs": [
    {
     "data": {
      "text/html": [
       "<div>\n",
       "<style scoped>\n",
       "    .dataframe tbody tr th:only-of-type {\n",
       "        vertical-align: middle;\n",
       "    }\n",
       "\n",
       "    .dataframe tbody tr th {\n",
       "        vertical-align: top;\n",
       "    }\n",
       "\n",
       "    .dataframe thead th {\n",
       "        text-align: right;\n",
       "    }\n",
       "</style>\n",
       "<table border=\"1\" class=\"dataframe\">\n",
       "  <thead>\n",
       "    <tr style=\"text-align: right;\">\n",
       "      <th></th>\n",
       "      <th>CAMIS</th>\n",
       "      <th>DBA</th>\n",
       "      <th>BORO</th>\n",
       "      <th>BUILDING</th>\n",
       "      <th>STREET</th>\n",
       "      <th>ZIPCODE</th>\n",
       "      <th>PHONE</th>\n",
       "      <th>CUISINE DESCRIPTION</th>\n",
       "      <th>INSPECTION DATE</th>\n",
       "      <th>ACTION</th>\n",
       "      <th>...</th>\n",
       "      <th>RECORD DATE</th>\n",
       "      <th>INSPECTION TYPE</th>\n",
       "      <th>Latitude</th>\n",
       "      <th>Longitude</th>\n",
       "      <th>Community Board</th>\n",
       "      <th>Council District</th>\n",
       "      <th>Census Tract</th>\n",
       "      <th>BIN</th>\n",
       "      <th>BBL</th>\n",
       "      <th>NTA</th>\n",
       "    </tr>\n",
       "  </thead>\n",
       "  <tbody>\n",
       "    <tr>\n",
       "      <th>2</th>\n",
       "      <td>50072808</td>\n",
       "      <td>CANELA COLOMBIAN RESTAURANT &amp; BAKERY</td>\n",
       "      <td>Brooklyn</td>\n",
       "      <td>4601</td>\n",
       "      <td>5 AVENUE</td>\n",
       "      <td>11220.0</td>\n",
       "      <td>7185763491</td>\n",
       "      <td>Spanish</td>\n",
       "      <td>02/27/2018</td>\n",
       "      <td>Violations were cited in the following area(s).</td>\n",
       "      <td>...</td>\n",
       "      <td>07/15/2021</td>\n",
       "      <td>Pre-permit (Operational) / Re-inspection</td>\n",
       "      <td>40.647251</td>\n",
       "      <td>-74.008068</td>\n",
       "      <td>307.0</td>\n",
       "      <td>38.0</td>\n",
       "      <td>9600.0</td>\n",
       "      <td>3011895.0</td>\n",
       "      <td>3.007570e+09</td>\n",
       "      <td>BK34</td>\n",
       "    </tr>\n",
       "    <tr>\n",
       "      <th>3</th>\n",
       "      <td>41354409</td>\n",
       "      <td>CAFE PETISCO</td>\n",
       "      <td>Manhattan</td>\n",
       "      <td>189</td>\n",
       "      <td>EAST BROADWAY</td>\n",
       "      <td>10002.0</td>\n",
       "      <td>2123870366</td>\n",
       "      <td>Mediterranean</td>\n",
       "      <td>04/11/2018</td>\n",
       "      <td>Violations were cited in the following area(s).</td>\n",
       "      <td>...</td>\n",
       "      <td>07/15/2021</td>\n",
       "      <td>Cycle Inspection / Initial Inspection</td>\n",
       "      <td>40.714163</td>\n",
       "      <td>-73.988796</td>\n",
       "      <td>103.0</td>\n",
       "      <td>1.0</td>\n",
       "      <td>600.0</td>\n",
       "      <td>1003616.0</td>\n",
       "      <td>1.002840e+09</td>\n",
       "      <td>MN28</td>\n",
       "    </tr>\n",
       "    <tr>\n",
       "      <th>4</th>\n",
       "      <td>41271290</td>\n",
       "      <td>SABOR LATINO SEAFOOD RESTAURANT</td>\n",
       "      <td>Bronx</td>\n",
       "      <td>2161</td>\n",
       "      <td>STARLING AVENUE</td>\n",
       "      <td>10462.0</td>\n",
       "      <td>7188220899</td>\n",
       "      <td>Seafood</td>\n",
       "      <td>04/30/2019</td>\n",
       "      <td>Violations were cited in the following area(s).</td>\n",
       "      <td>...</td>\n",
       "      <td>07/15/2021</td>\n",
       "      <td>Cycle Inspection / Re-inspection</td>\n",
       "      <td>40.836271</td>\n",
       "      <td>-73.853071</td>\n",
       "      <td>209.0</td>\n",
       "      <td>18.0</td>\n",
       "      <td>22200.0</td>\n",
       "      <td>2041227.0</td>\n",
       "      <td>2.039480e+09</td>\n",
       "      <td>BX46</td>\n",
       "    </tr>\n",
       "  </tbody>\n",
       "</table>\n",
       "<p>3 rows × 26 columns</p>\n",
       "</div>"
      ],
      "text/plain": [
       "      CAMIS                                   DBA       BORO BUILDING  \\\n",
       "2  50072808  CANELA COLOMBIAN RESTAURANT & BAKERY   Brooklyn     4601   \n",
       "3  41354409                          CAFE PETISCO  Manhattan      189   \n",
       "4  41271290       SABOR LATINO SEAFOOD RESTAURANT      Bronx     2161   \n",
       "\n",
       "            STREET  ZIPCODE       PHONE CUISINE DESCRIPTION INSPECTION DATE  \\\n",
       "2         5 AVENUE  11220.0  7185763491             Spanish      02/27/2018   \n",
       "3    EAST BROADWAY  10002.0  2123870366       Mediterranean      04/11/2018   \n",
       "4  STARLING AVENUE  10462.0  7188220899             Seafood      04/30/2019   \n",
       "\n",
       "                                            ACTION  ... RECORD DATE  \\\n",
       "2  Violations were cited in the following area(s).  ...  07/15/2021   \n",
       "3  Violations were cited in the following area(s).  ...  07/15/2021   \n",
       "4  Violations were cited in the following area(s).  ...  07/15/2021   \n",
       "\n",
       "                            INSPECTION TYPE   Latitude  Longitude  \\\n",
       "2  Pre-permit (Operational) / Re-inspection  40.647251 -74.008068   \n",
       "3     Cycle Inspection / Initial Inspection  40.714163 -73.988796   \n",
       "4          Cycle Inspection / Re-inspection  40.836271 -73.853071   \n",
       "\n",
       "  Community Board Council District Census Tract        BIN           BBL   NTA  \n",
       "2           307.0             38.0       9600.0  3011895.0  3.007570e+09  BK34  \n",
       "3           103.0              1.0        600.0  1003616.0  1.002840e+09  MN28  \n",
       "4           209.0             18.0      22200.0  2041227.0  2.039480e+09  BX46  \n",
       "\n",
       "[3 rows x 26 columns]"
      ]
     },
     "execution_count": 20,
     "metadata": {},
     "output_type": "execute_result"
    }
   ],
   "source": [
    "df5 = df4.get_group('Critical')\n",
    "df5.head(3)"
   ]
  },
  {
   "cell_type": "code",
   "execution_count": 51,
   "metadata": {},
   "outputs": [
    {
     "data": {
      "text/html": [
       "<div>\n",
       "<style scoped>\n",
       "    .dataframe tbody tr th:only-of-type {\n",
       "        vertical-align: middle;\n",
       "    }\n",
       "\n",
       "    .dataframe tbody tr th {\n",
       "        vertical-align: top;\n",
       "    }\n",
       "\n",
       "    .dataframe thead th {\n",
       "        text-align: right;\n",
       "    }\n",
       "</style>\n",
       "<table border=\"1\" class=\"dataframe\">\n",
       "  <thead>\n",
       "    <tr style=\"text-align: right;\">\n",
       "      <th></th>\n",
       "      <th></th>\n",
       "      <th>Count</th>\n",
       "    </tr>\n",
       "    <tr>\n",
       "      <th>VIOLATION DESCRIPTION</th>\n",
       "      <th>VIOLATION CODE</th>\n",
       "      <th></th>\n",
       "    </tr>\n",
       "  </thead>\n",
       "  <tbody>\n",
       "    <tr>\n",
       "      <th>Food contact surface not properly washed, rinsed and sanitized after each use and following any activity when contamination may have occurred.</th>\n",
       "      <th>06D</th>\n",
       "      <td>13252</td>\n",
       "    </tr>\n",
       "    <tr>\n",
       "      <th>Food not protected from potential source of contamination during storage, preparation, transportation, display or service.</th>\n",
       "      <th>06C</th>\n",
       "      <td>12121</td>\n",
       "    </tr>\n",
       "    <tr>\n",
       "      <th>Evidence of mice or live mice present in facility's food and/or non-food areas.</th>\n",
       "      <th>04L</th>\n",
       "      <td>8497</td>\n",
       "    </tr>\n",
       "    <tr>\n",
       "      <th>Cold food item held above 41º F (smoked fish and reduced oxygen packaged foods above 38 ºF) except during necessary preparation.</th>\n",
       "      <th>02G</th>\n",
       "      <td>7183</td>\n",
       "    </tr>\n",
       "    <tr>\n",
       "      <th>Hot food item not held at or above 140º F.</th>\n",
       "      <th>02B</th>\n",
       "      <td>6379</td>\n",
       "    </tr>\n",
       "    <tr>\n",
       "      <th>Filth flies or food/refuse/sewage-associated (FRSA) flies present in facility’s food and/or non-food areas.  Filth flies include house flies, little house flies, blow flies, bottle flies and flesh flies.  Food/refuse/sewage-associated flies include fruit flies, drain flies and Phorid flies.</th>\n",
       "      <th>04N</th>\n",
       "      <td>6154</td>\n",
       "    </tr>\n",
       "    <tr>\n",
       "      <th>Sanitized equipment or utensil, including in-use food dispensing utensil, improperly used or stored.</th>\n",
       "      <th>06E</th>\n",
       "      <td>3215</td>\n",
       "    </tr>\n",
       "  </tbody>\n",
       "</table>\n",
       "</div>"
      ],
      "text/plain": [
       "                                                                   Count\n",
       "VIOLATION DESCRIPTION                              VIOLATION CODE       \n",
       "Food contact surface not properly washed, rinse... 06D             13252\n",
       "Food not protected from potential source of con... 06C             12121\n",
       "Evidence of mice or live mice present in facili... 04L              8497\n",
       "Cold food item held above 41º F (smoked fish an... 02G              7183\n",
       "Hot food item not held at or above 140º F.         02B              6379\n",
       "Filth flies or food/refuse/sewage-associated (F... 04N              6154\n",
       "Sanitized equipment or utensil, including in-us... 06E              3215"
      ]
     },
     "execution_count": 51,
     "metadata": {},
     "output_type": "execute_result"
    }
   ],
   "source": [
    "violation_desc=df5.groupby(['VIOLATION DESCRIPTION','VIOLATION CODE']).size()\n",
    "df7 = pd.DataFrame({'Count':violation_desc.values}, index=violation_desc.index).sort_values(by = 'Count', ascending=False)\n",
    "df7.head(7)"
   ]
  },
  {
   "cell_type": "code",
   "execution_count": 52,
   "metadata": {},
   "outputs": [
    {
     "data": {
      "text/html": [
       "<div>\n",
       "<style scoped>\n",
       "    .dataframe tbody tr th:only-of-type {\n",
       "        vertical-align: middle;\n",
       "    }\n",
       "\n",
       "    .dataframe tbody tr th {\n",
       "        vertical-align: top;\n",
       "    }\n",
       "\n",
       "    .dataframe thead th {\n",
       "        text-align: right;\n",
       "    }\n",
       "</style>\n",
       "<table border=\"1\" class=\"dataframe\">\n",
       "  <thead>\n",
       "    <tr style=\"text-align: right;\">\n",
       "      <th></th>\n",
       "      <th>CAMIS</th>\n",
       "      <th>DBA</th>\n",
       "      <th>BORO</th>\n",
       "      <th>BUILDING</th>\n",
       "      <th>STREET</th>\n",
       "      <th>ZIPCODE</th>\n",
       "      <th>PHONE</th>\n",
       "      <th>CUISINE DESCRIPTION</th>\n",
       "      <th>INSPECTION DATE</th>\n",
       "      <th>ACTION</th>\n",
       "      <th>...</th>\n",
       "      <th>RECORD DATE</th>\n",
       "      <th>INSPECTION TYPE</th>\n",
       "      <th>Latitude</th>\n",
       "      <th>Longitude</th>\n",
       "      <th>Community Board</th>\n",
       "      <th>Council District</th>\n",
       "      <th>Census Tract</th>\n",
       "      <th>BIN</th>\n",
       "      <th>BBL</th>\n",
       "      <th>NTA</th>\n",
       "    </tr>\n",
       "  </thead>\n",
       "  <tbody>\n",
       "    <tr>\n",
       "      <th>1</th>\n",
       "      <td>50018473</td>\n",
       "      <td>PRESTIGE</td>\n",
       "      <td>Queens</td>\n",
       "      <td>9133</td>\n",
       "      <td>63RD DR</td>\n",
       "      <td>11374.0</td>\n",
       "      <td>7182752209</td>\n",
       "      <td>Jewish/Kosher</td>\n",
       "      <td>07/28/2016</td>\n",
       "      <td>Violations were cited in the following area(s).</td>\n",
       "      <td>...</td>\n",
       "      <td>07/15/2021</td>\n",
       "      <td>Cycle Inspection / Re-inspection</td>\n",
       "      <td>40.726943</td>\n",
       "      <td>-73.864400</td>\n",
       "      <td>406.0</td>\n",
       "      <td>29.0</td>\n",
       "      <td>69500.0</td>\n",
       "      <td>4072814.0</td>\n",
       "      <td>4.031030e+09</td>\n",
       "      <td>QN18</td>\n",
       "    </tr>\n",
       "    <tr>\n",
       "      <th>5</th>\n",
       "      <td>50094948</td>\n",
       "      <td>HAINAN</td>\n",
       "      <td>Queens</td>\n",
       "      <td>4125</td>\n",
       "      <td>162ND ST</td>\n",
       "      <td>11358.0</td>\n",
       "      <td>9175637223</td>\n",
       "      <td>Korean</td>\n",
       "      <td>08/21/2019</td>\n",
       "      <td>Violations were cited in the following area(s).</td>\n",
       "      <td>...</td>\n",
       "      <td>07/15/2021</td>\n",
       "      <td>Pre-permit (Operational) / Re-inspection</td>\n",
       "      <td>40.761036</td>\n",
       "      <td>-73.803884</td>\n",
       "      <td>407.0</td>\n",
       "      <td>20.0</td>\n",
       "      <td>117100.0</td>\n",
       "      <td>4120481.0</td>\n",
       "      <td>4.053360e+09</td>\n",
       "      <td>QN51</td>\n",
       "    </tr>\n",
       "    <tr>\n",
       "      <th>7</th>\n",
       "      <td>50011745</td>\n",
       "      <td>SAUCE N CHEESE</td>\n",
       "      <td>Brooklyn</td>\n",
       "      <td>509</td>\n",
       "      <td>ALBANY AVENUE</td>\n",
       "      <td>11203.0</td>\n",
       "      <td>3474251450</td>\n",
       "      <td>Pizza</td>\n",
       "      <td>11/02/2017</td>\n",
       "      <td>Violations were cited in the following area(s).</td>\n",
       "      <td>...</td>\n",
       "      <td>07/15/2021</td>\n",
       "      <td>Cycle Inspection / Re-inspection</td>\n",
       "      <td>40.662593</td>\n",
       "      <td>-73.939983</td>\n",
       "      <td>309.0</td>\n",
       "      <td>41.0</td>\n",
       "      <td>87401.0</td>\n",
       "      <td>3038458.0</td>\n",
       "      <td>3.014280e+09</td>\n",
       "      <td>BK60</td>\n",
       "    </tr>\n",
       "  </tbody>\n",
       "</table>\n",
       "<p>3 rows × 26 columns</p>\n",
       "</div>"
      ],
      "text/plain": [
       "      CAMIS             DBA      BORO BUILDING         STREET  ZIPCODE  \\\n",
       "1  50018473        PRESTIGE    Queens     9133        63RD DR  11374.0   \n",
       "5  50094948          HAINAN    Queens     4125       162ND ST  11358.0   \n",
       "7  50011745  SAUCE N CHEESE  Brooklyn      509  ALBANY AVENUE  11203.0   \n",
       "\n",
       "        PHONE CUISINE DESCRIPTION INSPECTION DATE  \\\n",
       "1  7182752209       Jewish/Kosher      07/28/2016   \n",
       "5  9175637223              Korean      08/21/2019   \n",
       "7  3474251450               Pizza      11/02/2017   \n",
       "\n",
       "                                            ACTION  ... RECORD DATE  \\\n",
       "1  Violations were cited in the following area(s).  ...  07/15/2021   \n",
       "5  Violations were cited in the following area(s).  ...  07/15/2021   \n",
       "7  Violations were cited in the following area(s).  ...  07/15/2021   \n",
       "\n",
       "                            INSPECTION TYPE   Latitude  Longitude  \\\n",
       "1          Cycle Inspection / Re-inspection  40.726943 -73.864400   \n",
       "5  Pre-permit (Operational) / Re-inspection  40.761036 -73.803884   \n",
       "7          Cycle Inspection / Re-inspection  40.662593 -73.939983   \n",
       "\n",
       "  Community Board Council District Census Tract        BIN           BBL   NTA  \n",
       "1           406.0             29.0      69500.0  4072814.0  4.031030e+09  QN18  \n",
       "5           407.0             20.0     117100.0  4120481.0  4.053360e+09  QN51  \n",
       "7           309.0             41.0      87401.0  3038458.0  3.014280e+09  BK60  \n",
       "\n",
       "[3 rows x 26 columns]"
      ]
     },
     "execution_count": 52,
     "metadata": {},
     "output_type": "execute_result"
    }
   ],
   "source": [
    "df5a = df4.get_group('Not Critical')\n",
    "df5a.head(3)"
   ]
  },
  {
   "cell_type": "code",
   "execution_count": 53,
   "metadata": {},
   "outputs": [
    {
     "data": {
      "text/html": [
       "<div>\n",
       "<style scoped>\n",
       "    .dataframe tbody tr th:only-of-type {\n",
       "        vertical-align: middle;\n",
       "    }\n",
       "\n",
       "    .dataframe tbody tr th {\n",
       "        vertical-align: top;\n",
       "    }\n",
       "\n",
       "    .dataframe thead th {\n",
       "        text-align: right;\n",
       "    }\n",
       "</style>\n",
       "<table border=\"1\" class=\"dataframe\">\n",
       "  <thead>\n",
       "    <tr style=\"text-align: right;\">\n",
       "      <th></th>\n",
       "      <th></th>\n",
       "      <th>Count</th>\n",
       "    </tr>\n",
       "    <tr>\n",
       "      <th>VIOLATION DESCRIPTION</th>\n",
       "      <th>VIOLATION CODE</th>\n",
       "      <th></th>\n",
       "    </tr>\n",
       "  </thead>\n",
       "  <tbody>\n",
       "    <tr>\n",
       "      <th>Non-food contact surface improperly constructed. Unacceptable material used. Non-food contact surface or equipment improperly maintained and/or not properly sealed, raised, spaced or movable to allow accessibility for cleaning on all sides, above and underneath the unit.</th>\n",
       "      <th>10F</th>\n",
       "      <td>47235</td>\n",
       "    </tr>\n",
       "    <tr>\n",
       "      <th>Facility not vermin proof. Harborage or conditions conducive to attracting vermin to the premises and/or allowing vermin to exist.</th>\n",
       "      <th>08A</th>\n",
       "      <td>13776</td>\n",
       "    </tr>\n",
       "    <tr>\n",
       "      <th>Plumbing not properly installed or maintained; anti-siphonage or backflow prevention device not provided where required; equipment or floor not properly drained; sewage disposal system in disrepair or not functioning properly.</th>\n",
       "      <th>10B</th>\n",
       "      <td>12912</td>\n",
       "    </tr>\n",
       "    <tr>\n",
       "      <th>Food contact surface not properly maintained.</th>\n",
       "      <th>09C</th>\n",
       "      <td>4096</td>\n",
       "    </tr>\n",
       "    <tr>\n",
       "      <th>Proper sanitization not provided for utensil ware washing operation.</th>\n",
       "      <th>10H</th>\n",
       "      <td>3246</td>\n",
       "    </tr>\n",
       "    <tr>\n",
       "      <th>Pesticide use not in accordance with label or applicable laws. Prohibited chemical used/stored. Open bait station used.</th>\n",
       "      <th>08C</th>\n",
       "      <td>2689</td>\n",
       "    </tr>\n",
       "    <tr>\n",
       "      <th>Single service item reused, improperly stored, dispensed; not used when required.</th>\n",
       "      <th>10I</th>\n",
       "      <td>2525</td>\n",
       "    </tr>\n",
       "  </tbody>\n",
       "</table>\n",
       "</div>"
      ],
      "text/plain": [
       "                                                                   Count\n",
       "VIOLATION DESCRIPTION                              VIOLATION CODE       \n",
       "Non-food contact surface improperly constructed... 10F             47235\n",
       "Facility not vermin proof. Harborage or conditi... 08A             13776\n",
       "Plumbing not properly installed or maintained; ... 10B             12912\n",
       "Food contact surface not properly maintained.      09C              4096\n",
       "Proper sanitization not provided for utensil wa... 10H              3246\n",
       "Pesticide use not in accordance with label or a... 08C              2689\n",
       "Single service item reused, improperly stored, ... 10I              2525"
      ]
     },
     "execution_count": 53,
     "metadata": {},
     "output_type": "execute_result"
    }
   ],
   "source": [
    "violation_desc=df5a.groupby(['VIOLATION DESCRIPTION','VIOLATION CODE']).size()\n",
    "df7 = pd.DataFrame({'Count':violation_desc.values}, index=violation_desc.index).sort_values(by = 'Count', ascending=False)\n",
    "df7.head(7)"
   ]
  },
  {
   "cell_type": "code",
   "execution_count": null,
   "metadata": {},
   "outputs": [],
   "source": []
  }
 ],
 "metadata": {
  "kernelspec": {
   "display_name": "Python 3",
   "language": "python",
   "name": "python3"
  },
  "language_info": {
   "codemirror_mode": {
    "name": "ipython",
    "version": 3
   },
   "file_extension": ".py",
   "mimetype": "text/x-python",
   "name": "python",
   "nbconvert_exporter": "python",
   "pygments_lexer": "ipython3",
   "version": "3.7.6"
  }
 },
 "nbformat": 4,
 "nbformat_minor": 4
}
