{
 "cells": [
  {
   "cell_type": "code",
   "execution_count": 68,
   "metadata": {},
   "outputs": [],
   "source": [
    "#Importing libraries needed for this project\n",
    "import pandas as pd\n",
    "import numpy as np\n",
    "import matplotlib\n",
    "import matplotlib.pyplot as plt\n",
    "%matplotlib inline\n",
    "import seaborn as sns\n",
    "from pandas import *\n",
    "from pylab import rcParams\n",
    "import datetime as dt\n",
    "import folium"
   ]
  },
  {
   "cell_type": "markdown",
   "metadata": {},
   "source": [
    "# Citi Bike Ridership Exploratory Analysis"
   ]
  },
  {
   "cell_type": "markdown",
   "metadata": {},
   "source": [
    "The main aim of this project is to perform visualizations and identify significant patterns of Citi Bike Ridership. \n"
   ]
  },
  {
   "cell_type": "code",
   "execution_count": 69,
   "metadata": {},
   "outputs": [
    {
     "data": {
      "text/html": [
       "<div>\n",
       "<style scoped>\n",
       "    .dataframe tbody tr th:only-of-type {\n",
       "        vertical-align: middle;\n",
       "    }\n",
       "\n",
       "    .dataframe tbody tr th {\n",
       "        vertical-align: top;\n",
       "    }\n",
       "\n",
       "    .dataframe thead th {\n",
       "        text-align: right;\n",
       "    }\n",
       "</style>\n",
       "<table border=\"1\" class=\"dataframe\">\n",
       "  <thead>\n",
       "    <tr style=\"text-align: right;\">\n",
       "      <th></th>\n",
       "      <th>tripduration</th>\n",
       "      <th>starttime</th>\n",
       "      <th>stoptime</th>\n",
       "      <th>start station id</th>\n",
       "      <th>start station name</th>\n",
       "      <th>start station latitude</th>\n",
       "      <th>start station longitude</th>\n",
       "      <th>end station id</th>\n",
       "      <th>end station name</th>\n",
       "      <th>end station latitude</th>\n",
       "      <th>end station longitude</th>\n",
       "      <th>bikeid</th>\n",
       "      <th>usertype</th>\n",
       "      <th>birth year</th>\n",
       "      <th>gender</th>\n",
       "    </tr>\n",
       "  </thead>\n",
       "  <tbody>\n",
       "    <tr>\n",
       "      <th>0</th>\n",
       "      <td>897</td>\n",
       "      <td>2019-07-01 00:00:00.1320</td>\n",
       "      <td>2019-07-01 00:14:58.0040</td>\n",
       "      <td>493.0</td>\n",
       "      <td>W 45 St &amp; 6 Ave</td>\n",
       "      <td>40.756800</td>\n",
       "      <td>-73.982912</td>\n",
       "      <td>454.0</td>\n",
       "      <td>E 51 St &amp; 1 Ave</td>\n",
       "      <td>40.754557</td>\n",
       "      <td>-73.96593</td>\n",
       "      <td>18340</td>\n",
       "      <td>Subscriber</td>\n",
       "      <td>1966</td>\n",
       "      <td>1</td>\n",
       "    </tr>\n",
       "    <tr>\n",
       "      <th>1</th>\n",
       "      <td>267</td>\n",
       "      <td>2019-07-01 00:00:05.1780</td>\n",
       "      <td>2019-07-01 00:04:32.4500</td>\n",
       "      <td>3143.0</td>\n",
       "      <td>5 Ave &amp; E 78 St</td>\n",
       "      <td>40.776321</td>\n",
       "      <td>-73.964274</td>\n",
       "      <td>3226.0</td>\n",
       "      <td>W 82 St &amp; Central Park West</td>\n",
       "      <td>40.782750</td>\n",
       "      <td>-73.97137</td>\n",
       "      <td>21458</td>\n",
       "      <td>Customer</td>\n",
       "      <td>1996</td>\n",
       "      <td>1</td>\n",
       "    </tr>\n",
       "    <tr>\n",
       "      <th>2</th>\n",
       "      <td>2201</td>\n",
       "      <td>2019-07-01 00:00:05.2130</td>\n",
       "      <td>2019-07-01 00:36:46.7490</td>\n",
       "      <td>317.0</td>\n",
       "      <td>E 6 St &amp; Avenue B</td>\n",
       "      <td>40.724537</td>\n",
       "      <td>-73.981854</td>\n",
       "      <td>3469.0</td>\n",
       "      <td>India St &amp; West St</td>\n",
       "      <td>40.731814</td>\n",
       "      <td>-73.95995</td>\n",
       "      <td>39874</td>\n",
       "      <td>Subscriber</td>\n",
       "      <td>1986</td>\n",
       "      <td>1</td>\n",
       "    </tr>\n",
       "  </tbody>\n",
       "</table>\n",
       "</div>"
      ],
      "text/plain": [
       "   tripduration                 starttime                  stoptime  \\\n",
       "0           897  2019-07-01 00:00:00.1320  2019-07-01 00:14:58.0040   \n",
       "1           267  2019-07-01 00:00:05.1780  2019-07-01 00:04:32.4500   \n",
       "2          2201  2019-07-01 00:00:05.2130  2019-07-01 00:36:46.7490   \n",
       "\n",
       "   start station id start station name  start station latitude  \\\n",
       "0             493.0    W 45 St & 6 Ave               40.756800   \n",
       "1            3143.0    5 Ave & E 78 St               40.776321   \n",
       "2             317.0  E 6 St & Avenue B               40.724537   \n",
       "\n",
       "   start station longitude  end station id             end station name  \\\n",
       "0               -73.982912           454.0              E 51 St & 1 Ave   \n",
       "1               -73.964274          3226.0  W 82 St & Central Park West   \n",
       "2               -73.981854          3469.0           India St & West St   \n",
       "\n",
       "   end station latitude  end station longitude  bikeid    usertype  \\\n",
       "0             40.754557              -73.96593   18340  Subscriber   \n",
       "1             40.782750              -73.97137   21458    Customer   \n",
       "2             40.731814              -73.95995   39874  Subscriber   \n",
       "\n",
       "   birth year  gender  \n",
       "0        1966       1  \n",
       "1        1996       1  \n",
       "2        1986       1  "
      ]
     },
     "execution_count": 69,
     "metadata": {},
     "output_type": "execute_result"
    }
   ],
   "source": [
    "#Loading original data into dataframe\n",
    "df = pd.read_csv(r'C:\\Users\\pumci\\Desktop\\LAG_DATA\\201907-citibike-tripdata.csv')\n",
    "#Printing first three observations\n",
    "df.head(3)"
   ]
  },
  {
   "cell_type": "code",
   "execution_count": 70,
   "metadata": {},
   "outputs": [
    {
     "data": {
      "text/html": [
       "<div>\n",
       "<style scoped>\n",
       "    .dataframe tbody tr th:only-of-type {\n",
       "        vertical-align: middle;\n",
       "    }\n",
       "\n",
       "    .dataframe tbody tr th {\n",
       "        vertical-align: top;\n",
       "    }\n",
       "\n",
       "    .dataframe thead th {\n",
       "        text-align: right;\n",
       "    }\n",
       "</style>\n",
       "<table border=\"1\" class=\"dataframe\">\n",
       "  <thead>\n",
       "    <tr style=\"text-align: right;\">\n",
       "      <th></th>\n",
       "      <th>tripduration</th>\n",
       "      <th>starttime</th>\n",
       "      <th>stoptime</th>\n",
       "      <th>start station id</th>\n",
       "      <th>start station name</th>\n",
       "      <th>start station latitude</th>\n",
       "      <th>start station longitude</th>\n",
       "      <th>end station id</th>\n",
       "      <th>end station name</th>\n",
       "      <th>end station latitude</th>\n",
       "      <th>end station longitude</th>\n",
       "      <th>bikeid</th>\n",
       "      <th>usertype</th>\n",
       "      <th>birth year</th>\n",
       "      <th>gender</th>\n",
       "    </tr>\n",
       "  </thead>\n",
       "  <tbody>\n",
       "    <tr>\n",
       "      <th>2181061</th>\n",
       "      <td>1302</td>\n",
       "      <td>2019-07-31 23:59:52.8280</td>\n",
       "      <td>2019-08-01 00:21:35.1090</td>\n",
       "      <td>331.0</td>\n",
       "      <td>Pike St &amp; Monroe St</td>\n",
       "      <td>40.711731</td>\n",
       "      <td>-73.991930</td>\n",
       "      <td>309.0</td>\n",
       "      <td>Murray St &amp; West St</td>\n",
       "      <td>40.714979</td>\n",
       "      <td>-74.013012</td>\n",
       "      <td>39730</td>\n",
       "      <td>Subscriber</td>\n",
       "      <td>1966</td>\n",
       "      <td>2</td>\n",
       "    </tr>\n",
       "    <tr>\n",
       "      <th>2181062</th>\n",
       "      <td>353</td>\n",
       "      <td>2019-07-31 23:59:57.1130</td>\n",
       "      <td>2019-08-01 00:05:50.1350</td>\n",
       "      <td>3255.0</td>\n",
       "      <td>8 Ave &amp; W 31 St</td>\n",
       "      <td>40.750585</td>\n",
       "      <td>-73.994685</td>\n",
       "      <td>482.0</td>\n",
       "      <td>W 15 St &amp; 7 Ave</td>\n",
       "      <td>40.739355</td>\n",
       "      <td>-73.999318</td>\n",
       "      <td>30149</td>\n",
       "      <td>Subscriber</td>\n",
       "      <td>1994</td>\n",
       "      <td>1</td>\n",
       "    </tr>\n",
       "    <tr>\n",
       "      <th>2181063</th>\n",
       "      <td>274</td>\n",
       "      <td>2019-07-31 23:59:57.4870</td>\n",
       "      <td>2019-08-01 00:04:32.2070</td>\n",
       "      <td>3459.0</td>\n",
       "      <td>E 53 St &amp; 3 Ave</td>\n",
       "      <td>40.757632</td>\n",
       "      <td>-73.969306</td>\n",
       "      <td>3134.0</td>\n",
       "      <td>3 Ave &amp; E 62 St</td>\n",
       "      <td>40.763126</td>\n",
       "      <td>-73.965269</td>\n",
       "      <td>25344</td>\n",
       "      <td>Subscriber</td>\n",
       "      <td>1994</td>\n",
       "      <td>2</td>\n",
       "    </tr>\n",
       "  </tbody>\n",
       "</table>\n",
       "</div>"
      ],
      "text/plain": [
       "         tripduration                 starttime                  stoptime  \\\n",
       "2181061          1302  2019-07-31 23:59:52.8280  2019-08-01 00:21:35.1090   \n",
       "2181062           353  2019-07-31 23:59:57.1130  2019-08-01 00:05:50.1350   \n",
       "2181063           274  2019-07-31 23:59:57.4870  2019-08-01 00:04:32.2070   \n",
       "\n",
       "         start station id   start station name  start station latitude  \\\n",
       "2181061             331.0  Pike St & Monroe St               40.711731   \n",
       "2181062            3255.0      8 Ave & W 31 St               40.750585   \n",
       "2181063            3459.0      E 53 St & 3 Ave               40.757632   \n",
       "\n",
       "         start station longitude  end station id     end station name  \\\n",
       "2181061               -73.991930           309.0  Murray St & West St   \n",
       "2181062               -73.994685           482.0      W 15 St & 7 Ave   \n",
       "2181063               -73.969306          3134.0      3 Ave & E 62 St   \n",
       "\n",
       "         end station latitude  end station longitude  bikeid    usertype  \\\n",
       "2181061             40.714979             -74.013012   39730  Subscriber   \n",
       "2181062             40.739355             -73.999318   30149  Subscriber   \n",
       "2181063             40.763126             -73.965269   25344  Subscriber   \n",
       "\n",
       "         birth year  gender  \n",
       "2181061        1966       2  \n",
       "2181062        1994       1  \n",
       "2181063        1994       2  "
      ]
     },
     "execution_count": 70,
     "metadata": {},
     "output_type": "execute_result"
    }
   ],
   "source": [
    "#Printing last three observations\n",
    "df.tail(3)"
   ]
  },
  {
   "cell_type": "code",
   "execution_count": 71,
   "metadata": {},
   "outputs": [
    {
     "data": {
      "text/plain": [
       "(2181064, 15)"
      ]
     },
     "execution_count": 71,
     "metadata": {},
     "output_type": "execute_result"
    }
   ],
   "source": [
    "#Checking dataset's size\n",
    "df.shape"
   ]
  },
  {
   "cell_type": "code",
   "execution_count": 72,
   "metadata": {},
   "outputs": [
    {
     "name": "stdout",
     "output_type": "stream",
     "text": [
      "<class 'pandas.core.frame.DataFrame'>\n",
      "RangeIndex: 2181064 entries, 0 to 2181063\n",
      "Data columns (total 15 columns):\n",
      " #   Column                   Dtype  \n",
      "---  ------                   -----  \n",
      " 0   tripduration             int64  \n",
      " 1   starttime                object \n",
      " 2   stoptime                 object \n",
      " 3   start station id         float64\n",
      " 4   start station name       object \n",
      " 5   start station latitude   float64\n",
      " 6   start station longitude  float64\n",
      " 7   end station id           float64\n",
      " 8   end station name         object \n",
      " 9   end station latitude     float64\n",
      " 10  end station longitude    float64\n",
      " 11  bikeid                   int64  \n",
      " 12  usertype                 object \n",
      " 13  birth year               int64  \n",
      " 14  gender                   int64  \n",
      "dtypes: float64(6), int64(4), object(5)\n",
      "memory usage: 249.6+ MB\n"
     ]
    }
   ],
   "source": [
    "#Priniting object types of dataset\n",
    "df.info()"
   ]
  },
  {
   "cell_type": "code",
   "execution_count": 73,
   "metadata": {},
   "outputs": [
    {
     "data": {
      "text/html": [
       "<div>\n",
       "<style scoped>\n",
       "    .dataframe tbody tr th:only-of-type {\n",
       "        vertical-align: middle;\n",
       "    }\n",
       "\n",
       "    .dataframe tbody tr th {\n",
       "        vertical-align: top;\n",
       "    }\n",
       "\n",
       "    .dataframe thead th {\n",
       "        text-align: right;\n",
       "    }\n",
       "</style>\n",
       "<table border=\"1\" class=\"dataframe\">\n",
       "  <thead>\n",
       "    <tr style=\"text-align: right;\">\n",
       "      <th></th>\n",
       "      <th>count</th>\n",
       "      <th>mean</th>\n",
       "      <th>std</th>\n",
       "      <th>min</th>\n",
       "      <th>25%</th>\n",
       "      <th>50%</th>\n",
       "      <th>75%</th>\n",
       "      <th>max</th>\n",
       "    </tr>\n",
       "  </thead>\n",
       "  <tbody>\n",
       "    <tr>\n",
       "      <th>tripduration</th>\n",
       "      <td>2181064.0</td>\n",
       "      <td>1035.359728</td>\n",
       "      <td>10779.684630</td>\n",
       "      <td>61.000000</td>\n",
       "      <td>385.000000</td>\n",
       "      <td>658.000000</td>\n",
       "      <td>1155.000000</td>\n",
       "      <td>2621244.000</td>\n",
       "    </tr>\n",
       "    <tr>\n",
       "      <th>start station id</th>\n",
       "      <td>2181010.0</td>\n",
       "      <td>1673.220622</td>\n",
       "      <td>1477.083515</td>\n",
       "      <td>72.000000</td>\n",
       "      <td>382.000000</td>\n",
       "      <td>514.000000</td>\n",
       "      <td>3296.000000</td>\n",
       "      <td>3799.000</td>\n",
       "    </tr>\n",
       "    <tr>\n",
       "      <th>start station latitude</th>\n",
       "      <td>2181064.0</td>\n",
       "      <td>40.737025</td>\n",
       "      <td>0.030701</td>\n",
       "      <td>40.655400</td>\n",
       "      <td>40.717227</td>\n",
       "      <td>40.737050</td>\n",
       "      <td>40.757570</td>\n",
       "      <td>40.866</td>\n",
       "    </tr>\n",
       "    <tr>\n",
       "      <th>start station longitude</th>\n",
       "      <td>2181064.0</td>\n",
       "      <td>-73.981797</td>\n",
       "      <td>0.020370</td>\n",
       "      <td>-74.025353</td>\n",
       "      <td>-73.995960</td>\n",
       "      <td>-73.985162</td>\n",
       "      <td>-73.971092</td>\n",
       "      <td>-73.881</td>\n",
       "    </tr>\n",
       "    <tr>\n",
       "      <th>end station id</th>\n",
       "      <td>2181010.0</td>\n",
       "      <td>1668.867471</td>\n",
       "      <td>1477.700063</td>\n",
       "      <td>72.000000</td>\n",
       "      <td>380.000000</td>\n",
       "      <td>514.000000</td>\n",
       "      <td>3300.000000</td>\n",
       "      <td>3799.000</td>\n",
       "    </tr>\n",
       "    <tr>\n",
       "      <th>end station latitude</th>\n",
       "      <td>2181064.0</td>\n",
       "      <td>40.736668</td>\n",
       "      <td>0.030652</td>\n",
       "      <td>40.655400</td>\n",
       "      <td>40.716887</td>\n",
       "      <td>40.736502</td>\n",
       "      <td>40.757148</td>\n",
       "      <td>40.866</td>\n",
       "    </tr>\n",
       "    <tr>\n",
       "      <th>end station longitude</th>\n",
       "      <td>2181064.0</td>\n",
       "      <td>-73.981927</td>\n",
       "      <td>0.020491</td>\n",
       "      <td>-74.050990</td>\n",
       "      <td>-73.996010</td>\n",
       "      <td>-73.985649</td>\n",
       "      <td>-73.971092</td>\n",
       "      <td>-73.881</td>\n",
       "    </tr>\n",
       "    <tr>\n",
       "      <th>bikeid</th>\n",
       "      <td>2181064.0</td>\n",
       "      <td>29767.469195</td>\n",
       "      <td>7686.671733</td>\n",
       "      <td>14529.000000</td>\n",
       "      <td>25220.000000</td>\n",
       "      <td>30997.000000</td>\n",
       "      <td>35355.000000</td>\n",
       "      <td>40002.000</td>\n",
       "    </tr>\n",
       "    <tr>\n",
       "      <th>birth year</th>\n",
       "      <td>2181064.0</td>\n",
       "      <td>1980.646956</td>\n",
       "      <td>12.024585</td>\n",
       "      <td>1885.000000</td>\n",
       "      <td>1970.000000</td>\n",
       "      <td>1983.000000</td>\n",
       "      <td>1990.000000</td>\n",
       "      <td>2003.000</td>\n",
       "    </tr>\n",
       "    <tr>\n",
       "      <th>gender</th>\n",
       "      <td>2181064.0</td>\n",
       "      <td>1.159509</td>\n",
       "      <td>0.560198</td>\n",
       "      <td>0.000000</td>\n",
       "      <td>1.000000</td>\n",
       "      <td>1.000000</td>\n",
       "      <td>1.000000</td>\n",
       "      <td>2.000</td>\n",
       "    </tr>\n",
       "  </tbody>\n",
       "</table>\n",
       "</div>"
      ],
      "text/plain": [
       "                             count          mean           std           min  \\\n",
       "tripduration             2181064.0   1035.359728  10779.684630     61.000000   \n",
       "start station id         2181010.0   1673.220622   1477.083515     72.000000   \n",
       "start station latitude   2181064.0     40.737025      0.030701     40.655400   \n",
       "start station longitude  2181064.0    -73.981797      0.020370    -74.025353   \n",
       "end station id           2181010.0   1668.867471   1477.700063     72.000000   \n",
       "end station latitude     2181064.0     40.736668      0.030652     40.655400   \n",
       "end station longitude    2181064.0    -73.981927      0.020491    -74.050990   \n",
       "bikeid                   2181064.0  29767.469195   7686.671733  14529.000000   \n",
       "birth year               2181064.0   1980.646956     12.024585   1885.000000   \n",
       "gender                   2181064.0      1.159509      0.560198      0.000000   \n",
       "\n",
       "                                  25%           50%           75%          max  \n",
       "tripduration               385.000000    658.000000   1155.000000  2621244.000  \n",
       "start station id           382.000000    514.000000   3296.000000     3799.000  \n",
       "start station latitude      40.717227     40.737050     40.757570       40.866  \n",
       "start station longitude    -73.995960    -73.985162    -73.971092      -73.881  \n",
       "end station id             380.000000    514.000000   3300.000000     3799.000  \n",
       "end station latitude        40.716887     40.736502     40.757148       40.866  \n",
       "end station longitude      -73.996010    -73.985649    -73.971092      -73.881  \n",
       "bikeid                   25220.000000  30997.000000  35355.000000    40002.000  \n",
       "birth year                1970.000000   1983.000000   1990.000000     2003.000  \n",
       "gender                       1.000000      1.000000      1.000000        2.000  "
      ]
     },
     "execution_count": 73,
     "metadata": {},
     "output_type": "execute_result"
    }
   ],
   "source": [
    "#Displaying simple statistics of the dataset\n",
    "df.describe().T"
   ]
  },
  {
   "cell_type": "code",
   "execution_count": 74,
   "metadata": {},
   "outputs": [
    {
     "data": {
      "text/plain": [
       "Index(['tripduration', 'starttime', 'stoptime', 'start station id',\n",
       "       'start station name', 'start station latitude',\n",
       "       'start station longitude', 'end station id', 'end station name',\n",
       "       'end station latitude', 'end station longitude', 'bikeid', 'usertype',\n",
       "       'birth year', 'gender'],\n",
       "      dtype='object')"
      ]
     },
     "execution_count": 74,
     "metadata": {},
     "output_type": "execute_result"
    }
   ],
   "source": [
    "#Getting coulmns in the dataset\n",
    "df.columns"
   ]
  },
  {
   "cell_type": "code",
   "execution_count": 75,
   "metadata": {},
   "outputs": [
    {
     "data": {
      "text/plain": [
       "<matplotlib.axes._subplots.AxesSubplot at 0x2d90bb9a5c8>"
      ]
     },
     "execution_count": 75,
     "metadata": {},
     "output_type": "execute_result"
    },
    {
     "data": {
      "image/png": "[encoded data removed]",
      "text/plain": [
       "<Figure size 432x288 with 2 Axes>"
      ]
     },
     "metadata": {
      "needs_background": "light"
     },
     "output_type": "display_data"
    }
   ],
   "source": [
    "#Visualizinge location of missing values. \n",
    "sns.heatmap(df.isnull(), cmap='viridis')"
   ]
  },
  {
   "cell_type": "markdown",
   "metadata": {},
   "source": [
    "The data is well organized and clean. In other words,  there is no missing values."
   ]
  },
  {
   "cell_type": "markdown",
   "metadata": {},
   "source": [
    "## Who is riding Citi Bike?"
   ]
  },
  {
   "cell_type": "code",
   "execution_count": 156,
   "metadata": {},
   "outputs": [
    {
     "data": {
      "text/plain": [
       "Text(0.5, 1, 'Ride Count by Birth Year')"
      ]
     },
     "execution_count": 156,
     "metadata": {},
     "output_type": "execute_result"
    },
    {
     "data": {
      "image/png": "[encoded data removed]",
      "text/plain": [
       "<Figure size 720x360 with 1 Axes>"
      ]
     },
     "metadata": {
      "needs_background": "light"
     },
     "output_type": "display_data"
    }
   ],
   "source": [
    "#Showing distribution Citi Bike Rider's age\n",
    "sns.displot(data=df,x=\"birth year\" , bins=range(1930,2010), aspect=10/5)\n",
    "plt.xlabel(\"Birth Year\", fontsize = 13)\n",
    "plt.ylabel(\"Count\", fontsize = 13)\n",
    "plt.title(\"Ride Count by Birth Year\", fontsize = 16)"
   ]
  },
  {
   "cell_type": "code",
   "execution_count": 77,
   "metadata": {},
   "outputs": [
    {
     "data": {
      "text/plain": [
       "1969    208704\n",
       "1989     94111\n",
       "1990     92616\n",
       "1991     88529\n",
       "1992     88030\n",
       "         ...  \n",
       "1895         2\n",
       "1922         2\n",
       "1927         2\n",
       "1905         1\n",
       "1920         1\n",
       "Name: birth year, Length: 104, dtype: int64"
      ]
     },
     "execution_count": 77,
     "metadata": {},
     "output_type": "execute_result"
    }
   ],
   "source": [
    "#Finding out which year has the most outliers \n",
    "df['birth year'].value_counts()"
   ]
  },
  {
   "cell_type": "code",
   "execution_count": 157,
   "metadata": {},
   "outputs": [
    {
     "data": {
      "text/plain": [
       "Text(0.5, 1, 'Ride Count by Birth Year & Gender')"
      ]
     },
     "execution_count": 157,
     "metadata": {},
     "output_type": "execute_result"
    },
    {
     "data": {
      "image/png": "[encoded data removed]",
      "text/plain": [
       "<Figure size 763.5x360 with 1 Axes>"
      ]
     },
     "metadata": {
      "needs_background": "light"
     },
     "output_type": "display_data"
    }
   ],
   "source": [
    "#Showing distribution Citi Bike Rider's age and gender\n",
    "sns.displot(data=df,x=\"birth year\" , bins=range(1930,2010), hue='gender',  multiple='stack', aspect=10/5)\n",
    "plt.xlabel(\"Birth Year & Gender\", fontsize = 13)\n",
    "plt.ylabel(\"Count\", fontsize = 13)\n",
    "plt.title(\"Ride Count by Birth Year & Gender\", fontsize = 16)\n"
   ]
  },
  {
   "cell_type": "markdown",
   "metadata": {},
   "source": [
    "Ride count by gender plot is skewed. The reason behind this is because we have outliers with values above 19,000 (9%). This may have happened due to an error in the built-in tracking system of the Citi bike system. "
   ]
  },
  {
   "cell_type": "code",
   "execution_count": 79,
   "metadata": {},
   "outputs": [
    {
     "data": {
      "text/plain": [
       "1    1441107\n",
       "2     543928\n",
       "0     196029\n",
       "Name: gender, dtype: int64"
      ]
     },
     "execution_count": 79,
     "metadata": {},
     "output_type": "execute_result"
    }
   ],
   "source": [
    "#Finding out number of male, female and unknown\n",
    "df['gender'].value_counts()"
   ]
  },
  {
   "cell_type": "code",
   "execution_count": 153,
   "metadata": {},
   "outputs": [
    {
     "data": {
      "image/png": "[encoded data removed]",
      "text/plain": [
       "<Figure size 576x648 with 1 Axes>"
      ]
     },
     "metadata": {},
     "output_type": "display_data"
    }
   ],
   "source": [
    "#Donut chart detailing gender of Citi Bike Riders\n",
    "\n",
    "fig = plt.figure(figsize=(8,9))\n",
    "Race = ['Male', 'Female', 'Unknown']\n",
    "num_race = [1441107, 543928, 196029]\n",
    "\n",
    "colors = ['skyblue', 'pink','orange']\n",
    "plt.pie(num_race, colors=colors, labels=Race,\n",
    "        autopct='%1.0f%%', pctdistance=0.85)\n",
    "\n",
    "centre_circle = plt.Circle((0, 0), 0.70, fc='white')\n",
    "fig = plt.gcf()\n",
    "fig.gca().add_artist(centre_circle)\n",
    "\n",
    "plt.title('Gender Details of Citi Bike Riders', fontsize=16)\n",
    "  \n",
    "plt.show()"
   ]
  },
  {
   "cell_type": "markdown",
   "metadata": {},
   "source": [
    "Men are riding more – far more – than women. In July 2019, 66% of riders were male, 25% were female and 9% were unknown."
   ]
  },
  {
   "cell_type": "code",
   "execution_count": 154,
   "metadata": {},
   "outputs": [],
   "source": [
    "#Implementing mask function in order not to display outlier. \n",
    "skip = (df['birth year'] < 1930) | (df['gender'] == 0) \n",
    "df['age'] = (2010 - df['birth year']).mask(skip,None)"
   ]
  },
  {
   "cell_type": "code",
   "execution_count": 155,
   "metadata": {},
   "outputs": [
    {
     "data": {
      "text/plain": [
       "Text(0.5, 1, 'Ride Count by Age & Gender')"
      ]
     },
     "execution_count": 155,
     "metadata": {},
     "output_type": "execute_result"
    },
    {
     "data": {
      "image/png": "[encoded data removed]",
      "text/plain": [
       "<Figure size 763.5x360 with 1 Axes>"
      ]
     },
     "metadata": {
      "needs_background": "light"
     },
     "output_type": "display_data"
    }
   ],
   "source": [
    "#Plot without outlier\n",
    "sns.displot(data=df, x='age', hue='gender', multiple='stack',  aspect=10/5)\n",
    "plt.xlabel(\"Age & Gender\", fontsize = 13)\n",
    "plt.ylabel(\"Count\", fontsize = 13)\n",
    "plt.title(\"Ride Count by Age & Gender\", fontsize = 16)"
   ]
  },
  {
   "cell_type": "code",
   "execution_count": 83,
   "metadata": {},
   "outputs": [
    {
     "data": {
      "image/png": "[encoded data removed]",
      "text/plain": [
       "<Figure size 864x432 with 1 Axes>"
      ]
     },
     "metadata": {
      "needs_background": "light"
     },
     "output_type": "display_data"
    }
   ],
   "source": [
    "#Bar chart of Citi Bike user type\n",
    "fig = plt.figure(figsize=(12,6))\n",
    "sns.countplot(x='usertype', data=df, palette='cool')\n",
    "plt.xlabel('UserType')\n",
    "plt.ylabel('Count')\n",
    "plt.title('Ride Count by User Type', fontsize=15)\n",
    "plt.show()"
   ]
  },
  {
   "cell_type": "code",
   "execution_count": 84,
   "metadata": {},
   "outputs": [
    {
     "data": {
      "text/plain": [
       "Text(0.5, 1, 'Ride Count by UserType & Age')"
      ]
     },
     "execution_count": 84,
     "metadata": {},
     "output_type": "execute_result"
    },
    {
     "data": {
      "image/png": "[encoded data removed]",
      "text/plain": [
       "<Figure size 809.125x360 with 1 Axes>"
      ]
     },
     "metadata": {
      "needs_background": "light"
     },
     "output_type": "display_data"
    }
   ],
   "source": [
    "#Displaying Ride Count by usertype and gender\n",
    "sns.displot(data=df, x='age', hue='usertype', multiple='stack',  aspect=10/5)\n",
    "plt.xlabel(\"User Type\", fontsize = 13)\n",
    "plt.ylabel(\"Ride Count\", fontsize = 13)\n",
    "plt.title(\"Ride Count by UserType & Age\", fontsize = 16)"
   ]
  },
  {
   "cell_type": "markdown",
   "metadata": {},
   "source": [
    "## How long are they riding?"
   ]
  },
  {
   "cell_type": "code",
   "execution_count": 85,
   "metadata": {},
   "outputs": [
    {
     "data": {
      "text/plain": [
       "Text(0.5, 1, 'Ride Length in Minutes')"
      ]
     },
     "execution_count": 85,
     "metadata": {},
     "output_type": "execute_result"
    },
    {
     "data": {
      "image/png": "[encoded data removed]",
      "text/plain": [
       "<Figure size 720x360 with 1 Axes>"
      ]
     },
     "metadata": {
      "needs_background": "light"
     },
     "output_type": "display_data"
    }
   ],
   "source": [
    "#Displaying ride lenght in minutes\n",
    "df['tripminutes'] = df['tripduration'] // 60\n",
    "sns.displot(data=df,x=\"tripminutes\", bins=range(1,61), aspect=10/5)\n",
    "plt.xlabel(\"Ride Length (min)\", fontsize = 13)\n",
    "plt.ylabel(\"Count\", fontsize = 13)\n",
    "plt.title(\"Ride Length in Minutes\", fontsize = 16)"
   ]
  },
  {
   "cell_type": "markdown",
   "metadata": {},
   "source": [
    "Most NYC Citi Bike trips fall within the 3 to 10 minute range. The shorter tip is 2 min and the longest is an hour. One possible explanation for the difference is that longer rides are more likely to be attributed to tourists who are exploring the city with more time to spare."
   ]
  },
  {
   "cell_type": "markdown",
   "metadata": {},
   "source": [
    "## Which stations are most popular?"
   ]
  },
  {
   "cell_type": "code",
   "execution_count": 127,
   "metadata": {},
   "outputs": [
    {
     "data": {
      "text/html": [
       "<div>\n",
       "<style scoped>\n",
       "    .dataframe tbody tr th:only-of-type {\n",
       "        vertical-align: middle;\n",
       "    }\n",
       "\n",
       "    .dataframe tbody tr th {\n",
       "        vertical-align: top;\n",
       "    }\n",
       "\n",
       "    .dataframe thead th {\n",
       "        text-align: right;\n",
       "    }\n",
       "</style>\n",
       "<table border=\"1\" class=\"dataframe\">\n",
       "  <thead>\n",
       "    <tr style=\"text-align: right;\">\n",
       "      <th></th>\n",
       "      <th>Station Name</th>\n",
       "      <th># of Starts</th>\n",
       "    </tr>\n",
       "  </thead>\n",
       "  <tbody>\n",
       "    <tr>\n",
       "      <th>0</th>\n",
       "      <td>Pershing Square North</td>\n",
       "      <td>16348</td>\n",
       "    </tr>\n",
       "    <tr>\n",
       "      <th>1</th>\n",
       "      <td>12 Ave &amp; W 40 St</td>\n",
       "      <td>12983</td>\n",
       "    </tr>\n",
       "    <tr>\n",
       "      <th>2</th>\n",
       "      <td>West St &amp; Chambers St</td>\n",
       "      <td>12871</td>\n",
       "    </tr>\n",
       "    <tr>\n",
       "      <th>3</th>\n",
       "      <td>8 Ave &amp; W 31 St</td>\n",
       "      <td>12490</td>\n",
       "    </tr>\n",
       "    <tr>\n",
       "      <th>4</th>\n",
       "      <td>E 17 St &amp; Broadway</td>\n",
       "      <td>12456</td>\n",
       "    </tr>\n",
       "  </tbody>\n",
       "</table>\n",
       "</div>"
      ],
      "text/plain": [
       "            Station Name  # of Starts\n",
       "0  Pershing Square North        16348\n",
       "1       12 Ave & W 40 St        12983\n",
       "2  West St & Chambers St        12871\n",
       "3        8 Ave & W 31 St        12490\n",
       "4     E 17 St & Broadway        12456"
      ]
     },
     "execution_count": 127,
     "metadata": {},
     "output_type": "execute_result"
    }
   ],
   "source": [
    "#Counting top 5 start stations p.1\n",
    "top5 = pd.DataFrame() \n",
    "top5['Station Name']=df['start station name'].value_counts().head().index\n",
    "top5['# of Starts']=df['start station name'].value_counts().head().values\n",
    "#top5['Station Name'] = top5['Station Name'].cat.remove_unused_categories()\n",
    "top5['Station Name'] = top5['Station Name'].astype('object')\n",
    "top5.head()"
   ]
  },
  {
   "cell_type": "code",
   "execution_count": 116,
   "metadata": {},
   "outputs": [
    {
     "data": {
      "image/png": "[encoded data removed]",
      "text/plain": [
       "<Figure size 864x504 with 1 Axes>"
      ]
     },
     "metadata": {
      "needs_background": "light"
     },
     "output_type": "display_data"
    }
   ],
   "source": [
    "#Plot of 5 top start stations p.2\n",
    "ax = sns.barplot('Station Name', '# of Starts', data = top5, palette=\"GnBu_d\")\n",
    "ax.set_title('Top 5 Start Stations', fontsize = 12)\n",
    "rcParams['figure.figsize'] = 12,7\n",
    "ax.set_xticklabels(ax.get_xticklabels(),rotation=45, ha = 'right')\n",
    "for index, row in top5.iterrows():\n",
    "    ax.text(index,row['# of Starts']-4000,row['# of Starts'], \n",
    "            color='white', ha=\"center\", fontsize = 10)\n",
    "\n",
    "plt.show()"
   ]
  },
  {
   "cell_type": "markdown",
   "metadata": {},
   "source": [
    "The most popular starting point for Citi Bike rides in New York City is at Pershing Square North. "
   ]
  },
  {
   "cell_type": "code",
   "execution_count": 169,
   "metadata": {},
   "outputs": [
    {
     "data": {
      "text/html": [
       "<div>\n",
       "<style scoped>\n",
       "    .dataframe tbody tr th:only-of-type {\n",
       "        vertical-align: middle;\n",
       "    }\n",
       "\n",
       "    .dataframe tbody tr th {\n",
       "        vertical-align: top;\n",
       "    }\n",
       "\n",
       "    .dataframe thead th {\n",
       "        text-align: right;\n",
       "    }\n",
       "</style>\n",
       "<table border=\"1\" class=\"dataframe\">\n",
       "  <thead>\n",
       "    <tr style=\"text-align: right;\">\n",
       "      <th></th>\n",
       "      <th>Station Name</th>\n",
       "      <th># of Ends</th>\n",
       "    </tr>\n",
       "  </thead>\n",
       "  <tbody>\n",
       "    <tr>\n",
       "      <th>0</th>\n",
       "      <td>Pershing Square North</td>\n",
       "      <td>16124</td>\n",
       "    </tr>\n",
       "    <tr>\n",
       "      <th>1</th>\n",
       "      <td>West St &amp; Chambers St</td>\n",
       "      <td>13643</td>\n",
       "    </tr>\n",
       "    <tr>\n",
       "      <th>2</th>\n",
       "      <td>12 Ave &amp; W 40 St</td>\n",
       "      <td>13230</td>\n",
       "    </tr>\n",
       "    <tr>\n",
       "      <th>3</th>\n",
       "      <td>E 17 St &amp; Broadway</td>\n",
       "      <td>12901</td>\n",
       "    </tr>\n",
       "    <tr>\n",
       "      <th>4</th>\n",
       "      <td>8 Ave &amp; W 31 St</td>\n",
       "      <td>12433</td>\n",
       "    </tr>\n",
       "  </tbody>\n",
       "</table>\n",
       "</div>"
      ],
      "text/plain": [
       "            Station Name  # of Ends\n",
       "0  Pershing Square North      16124\n",
       "1  West St & Chambers St      13643\n",
       "2       12 Ave & W 40 St      13230\n",
       "3     E 17 St & Broadway      12901\n",
       "4        8 Ave & W 31 St      12433"
      ]
     },
     "execution_count": 169,
     "metadata": {},
     "output_type": "execute_result"
    }
   ],
   "source": [
    "#Counting top 5 start stations p.1\n",
    "etop5 = pd.DataFrame() \n",
    "etop5['Station Name']=df['end station name'].value_counts().head().index\n",
    "etop5['# of Ends']=df['end station name'].value_counts().head().values\n",
    "#top5['Station Name'] = top5['Station Name'].cat.remove_unused_categories()\n",
    "etop5['Station Name'] = etop5['Station Name'].astype('object')\n",
    "etop5.head()"
   ]
  },
  {
   "cell_type": "code",
   "execution_count": 170,
   "metadata": {},
   "outputs": [
    {
     "data": {
      "image/png": "[encoded data removed]",
      "text/plain": [
       "<Figure size 864x504 with 1 Axes>"
      ]
     },
     "metadata": {
      "needs_background": "light"
     },
     "output_type": "display_data"
    }
   ],
   "source": [
    "#Plot of 5 top start stations p.2\n",
    "ax = sns.barplot('Station Name', '# of Ends', data = etop5, palette=\"GnBu_d\")\n",
    "ax.set_title('Top 5 End Stations', fontsize = 12)\n",
    "rcParams['figure.figsize'] = 12,7\n",
    "ax.set_xticklabels(ax.get_xticklabels(),rotation=45, ha = 'right')\n",
    "for index, row in top5.iterrows():\n",
    "    ax.text(index,row['# of Ends']-4000,row['# of Ends'], \n",
    "            color='white', ha=\"center\", fontsize = 10)\n",
    "\n",
    "plt.show()"
   ]
  },
  {
   "cell_type": "markdown",
   "metadata": {},
   "source": [
    "The most popular ending point for Citi Bike rides in New York City is at Pershing Square North. "
   ]
  },
  {
   "cell_type": "markdown",
   "metadata": {},
   "source": [
    "#### Grouping data of popular start stations for a map (long and lat)"
   ]
  },
  {
   "cell_type": "code",
   "execution_count": 140,
   "metadata": {},
   "outputs": [
    {
     "data": {
      "text/html": [
       "<div>\n",
       "<style scoped>\n",
       "    .dataframe tbody tr th:only-of-type {\n",
       "        vertical-align: middle;\n",
       "    }\n",
       "\n",
       "    .dataframe tbody tr th {\n",
       "        vertical-align: top;\n",
       "    }\n",
       "\n",
       "    .dataframe thead th {\n",
       "        text-align: right;\n",
       "    }\n",
       "</style>\n",
       "<table border=\"1\" class=\"dataframe\">\n",
       "  <thead>\n",
       "    <tr style=\"text-align: right;\">\n",
       "      <th></th>\n",
       "      <th>tripduration</th>\n",
       "      <th>starttime</th>\n",
       "      <th>stoptime</th>\n",
       "      <th>start station id</th>\n",
       "      <th>start station name</th>\n",
       "      <th>start station latitude</th>\n",
       "      <th>start station longitude</th>\n",
       "      <th>end station id</th>\n",
       "      <th>end station name</th>\n",
       "      <th>end station latitude</th>\n",
       "      <th>end station longitude</th>\n",
       "      <th>bikeid</th>\n",
       "      <th>usertype</th>\n",
       "      <th>birth year</th>\n",
       "      <th>gender</th>\n",
       "      <th>age</th>\n",
       "      <th>tripminutes</th>\n",
       "    </tr>\n",
       "  </thead>\n",
       "  <tbody>\n",
       "    <tr>\n",
       "      <th>14</th>\n",
       "      <td>366</td>\n",
       "      <td>2019-07-01 00:01:06.5270</td>\n",
       "      <td>2019-07-01 00:07:13.1350</td>\n",
       "      <td>3578.0</td>\n",
       "      <td>Park Pl &amp; Franklin Ave</td>\n",
       "      <td>40.674181</td>\n",
       "      <td>-73.956495</td>\n",
       "      <td>3581.0</td>\n",
       "      <td>Underhill Ave &amp; Lincoln Pl</td>\n",
       "      <td>40.674012</td>\n",
       "      <td>-73.967146</td>\n",
       "      <td>38092</td>\n",
       "      <td>Subscriber</td>\n",
       "      <td>1988</td>\n",
       "      <td>2</td>\n",
       "      <td>22</td>\n",
       "      <td>6</td>\n",
       "    </tr>\n",
       "    <tr>\n",
       "      <th>22</th>\n",
       "      <td>536</td>\n",
       "      <td>2019-07-01 00:01:39.0260</td>\n",
       "      <td>2019-07-01 00:10:35.7690</td>\n",
       "      <td>116.0</td>\n",
       "      <td>W 17 St &amp; 8 Ave</td>\n",
       "      <td>40.741776</td>\n",
       "      <td>-74.001497</td>\n",
       "      <td>462.0</td>\n",
       "      <td>W 22 St &amp; 10 Ave</td>\n",
       "      <td>40.746920</td>\n",
       "      <td>-74.004519</td>\n",
       "      <td>27844</td>\n",
       "      <td>Subscriber</td>\n",
       "      <td>1963</td>\n",
       "      <td>2</td>\n",
       "      <td>47</td>\n",
       "      <td>8</td>\n",
       "    </tr>\n",
       "    <tr>\n",
       "      <th>34</th>\n",
       "      <td>469</td>\n",
       "      <td>2019-07-01 00:02:44.4640</td>\n",
       "      <td>2019-07-01 00:10:34.1510</td>\n",
       "      <td>3715.0</td>\n",
       "      <td>Driggs Ave &amp; N 9 St</td>\n",
       "      <td>40.718170</td>\n",
       "      <td>-73.955201</td>\n",
       "      <td>3108.0</td>\n",
       "      <td>Nassau Ave &amp; Russell St</td>\n",
       "      <td>40.725570</td>\n",
       "      <td>-73.944340</td>\n",
       "      <td>25821</td>\n",
       "      <td>Subscriber</td>\n",
       "      <td>1963</td>\n",
       "      <td>2</td>\n",
       "      <td>47</td>\n",
       "      <td>7</td>\n",
       "    </tr>\n",
       "  </tbody>\n",
       "</table>\n",
       "</div>"
      ],
      "text/plain": [
       "    tripduration                 starttime                  stoptime  \\\n",
       "14           366  2019-07-01 00:01:06.5270  2019-07-01 00:07:13.1350   \n",
       "22           536  2019-07-01 00:01:39.0260  2019-07-01 00:10:35.7690   \n",
       "34           469  2019-07-01 00:02:44.4640  2019-07-01 00:10:34.1510   \n",
       "\n",
       "    start station id      start station name  start station latitude  \\\n",
       "14            3578.0  Park Pl & Franklin Ave               40.674181   \n",
       "22             116.0         W 17 St & 8 Ave               40.741776   \n",
       "34            3715.0     Driggs Ave & N 9 St               40.718170   \n",
       "\n",
       "    start station longitude  end station id            end station name  \\\n",
       "14               -73.956495          3581.0  Underhill Ave & Lincoln Pl   \n",
       "22               -74.001497           462.0            W 22 St & 10 Ave   \n",
       "34               -73.955201          3108.0     Nassau Ave & Russell St   \n",
       "\n",
       "    end station latitude  end station longitude  bikeid    usertype  \\\n",
       "14             40.674012             -73.967146   38092  Subscriber   \n",
       "22             40.746920             -74.004519   27844  Subscriber   \n",
       "34             40.725570             -73.944340   25821  Subscriber   \n",
       "\n",
       "    birth year  gender age  tripminutes  \n",
       "14        1988       2  22            6  \n",
       "22        1963       2  47            8  \n",
       "34        1963       2  47            7  "
      ]
     },
     "execution_count": 140,
     "metadata": {},
     "output_type": "execute_result"
    }
   ],
   "source": [
    "#Filltering Female ('2') riders only by using query function \n",
    "df_female = df.query('gender==2')\n",
    "df_female.head(3)"
   ]
  },
  {
   "cell_type": "code",
   "execution_count": 152,
   "metadata": {},
   "outputs": [
    {
     "data": {
      "text/html": [
       "<div>\n",
       "<style scoped>\n",
       "    .dataframe tbody tr th:only-of-type {\n",
       "        vertical-align: middle;\n",
       "    }\n",
       "\n",
       "    .dataframe tbody tr th {\n",
       "        vertical-align: top;\n",
       "    }\n",
       "\n",
       "    .dataframe thead th {\n",
       "        text-align: right;\n",
       "    }\n",
       "</style>\n",
       "<table border=\"1\" class=\"dataframe\">\n",
       "  <thead>\n",
       "    <tr style=\"text-align: right;\">\n",
       "      <th></th>\n",
       "      <th>Station Name</th>\n",
       "      <th>Count</th>\n",
       "    </tr>\n",
       "  </thead>\n",
       "  <tbody>\n",
       "    <tr>\n",
       "      <th>0</th>\n",
       "      <td>West St &amp; Chambers St</td>\n",
       "      <td>3593</td>\n",
       "    </tr>\n",
       "    <tr>\n",
       "      <th>1</th>\n",
       "      <td>12 Ave &amp; W 40 St</td>\n",
       "      <td>3241</td>\n",
       "    </tr>\n",
       "    <tr>\n",
       "      <th>2</th>\n",
       "      <td>W 21 St &amp; 6 Ave</td>\n",
       "      <td>3059</td>\n",
       "    </tr>\n",
       "    <tr>\n",
       "      <th>3</th>\n",
       "      <td>E 17 St &amp; Broadway</td>\n",
       "      <td>3040</td>\n",
       "    </tr>\n",
       "    <tr>\n",
       "      <th>4</th>\n",
       "      <td>Broadway &amp; E 22 St</td>\n",
       "      <td>2710</td>\n",
       "    </tr>\n",
       "  </tbody>\n",
       "</table>\n",
       "</div>"
      ],
      "text/plain": [
       "            Station Name  Count\n",
       "0  West St & Chambers St   3593\n",
       "1       12 Ave & W 40 St   3241\n",
       "2        W 21 St & 6 Ave   3059\n",
       "3     E 17 St & Broadway   3040\n",
       "4     Broadway & E 22 St   2710"
      ]
     },
     "execution_count": 152,
     "metadata": {},
     "output_type": "execute_result"
    }
   ],
   "source": [
    "#Counting top 5 start stations p.1\n",
    "ftop5 = pd.DataFrame() \n",
    "ftop5['Station Name']=df_female['start station name'].value_counts().head().index\n",
    "ftop5['Count']=df_female['start station name'].value_counts().head().values\n",
    "#ftop5['Station Name'] = ftop5['Station Name'].cat.remove_unused_categories()\n",
    "ftop5['Station Name'] = ftop5['Station Name'].astype('category')\n",
    "ftop5.head()"
   ]
  },
  {
   "cell_type": "code",
   "execution_count": 95,
   "metadata": {},
   "outputs": [
    {
     "data": {
      "text/html": [
       "<div>\n",
       "<style scoped>\n",
       "    .dataframe tbody tr th:only-of-type {\n",
       "        vertical-align: middle;\n",
       "    }\n",
       "\n",
       "    .dataframe tbody tr th {\n",
       "        vertical-align: top;\n",
       "    }\n",
       "\n",
       "    .dataframe thead th {\n",
       "        text-align: right;\n",
       "    }\n",
       "</style>\n",
       "<table border=\"1\" class=\"dataframe\">\n",
       "  <thead>\n",
       "    <tr style=\"text-align: right;\">\n",
       "      <th></th>\n",
       "      <th>start station latitude</th>\n",
       "      <th>start station longitude</th>\n",
       "    </tr>\n",
       "  </thead>\n",
       "  <tbody>\n",
       "    <tr>\n",
       "      <th>119</th>\n",
       "      <td>40.717548</td>\n",
       "      <td>-74.013221</td>\n",
       "    </tr>\n",
       "    <tr>\n",
       "      <th>399</th>\n",
       "      <td>40.717548</td>\n",
       "      <td>-74.013221</td>\n",
       "    </tr>\n",
       "    <tr>\n",
       "      <th>929</th>\n",
       "      <td>40.717548</td>\n",
       "      <td>-74.013221</td>\n",
       "    </tr>\n",
       "    <tr>\n",
       "      <th>1148</th>\n",
       "      <td>40.717548</td>\n",
       "      <td>-74.013221</td>\n",
       "    </tr>\n",
       "    <tr>\n",
       "      <th>1367</th>\n",
       "      <td>40.717548</td>\n",
       "      <td>-74.013221</td>\n",
       "    </tr>\n",
       "  </tbody>\n",
       "</table>\n",
       "</div>"
      ],
      "text/plain": [
       "      start station latitude  start station longitude\n",
       "119                40.717548               -74.013221\n",
       "399                40.717548               -74.013221\n",
       "929                40.717548               -74.013221\n",
       "1148               40.717548               -74.013221\n",
       "1367               40.717548               -74.013221"
      ]
     },
     "execution_count": 95,
     "metadata": {},
     "output_type": "execute_result"
    }
   ],
   "source": [
    "#Finding out lat and long of West St & Chambers St station\n",
    "df2 = df.loc[(df['start station name'] == 'West St & Chambers St'),['start station latitude','start station longitude']]\n",
    "df2.head()"
   ]
  },
  {
   "cell_type": "code",
   "execution_count": 96,
   "metadata": {},
   "outputs": [
    {
     "data": {
      "text/html": [
       "<div>\n",
       "<style scoped>\n",
       "    .dataframe tbody tr th:only-of-type {\n",
       "        vertical-align: middle;\n",
       "    }\n",
       "\n",
       "    .dataframe tbody tr th {\n",
       "        vertical-align: top;\n",
       "    }\n",
       "\n",
       "    .dataframe thead th {\n",
       "        text-align: right;\n",
       "    }\n",
       "</style>\n",
       "<table border=\"1\" class=\"dataframe\">\n",
       "  <thead>\n",
       "    <tr style=\"text-align: right;\">\n",
       "      <th></th>\n",
       "      <th>start station latitude</th>\n",
       "      <th>start station longitude</th>\n",
       "    </tr>\n",
       "  </thead>\n",
       "  <tbody>\n",
       "    <tr>\n",
       "      <th>8</th>\n",
       "      <td>40.760875</td>\n",
       "      <td>-74.002777</td>\n",
       "    </tr>\n",
       "    <tr>\n",
       "      <th>70</th>\n",
       "      <td>40.760875</td>\n",
       "      <td>-74.002777</td>\n",
       "    </tr>\n",
       "    <tr>\n",
       "      <th>140</th>\n",
       "      <td>40.760875</td>\n",
       "      <td>-74.002777</td>\n",
       "    </tr>\n",
       "    <tr>\n",
       "      <th>167</th>\n",
       "      <td>40.760875</td>\n",
       "      <td>-74.002777</td>\n",
       "    </tr>\n",
       "    <tr>\n",
       "      <th>196</th>\n",
       "      <td>40.760875</td>\n",
       "      <td>-74.002777</td>\n",
       "    </tr>\n",
       "  </tbody>\n",
       "</table>\n",
       "</div>"
      ],
      "text/plain": [
       "     start station latitude  start station longitude\n",
       "8                 40.760875               -74.002777\n",
       "70                40.760875               -74.002777\n",
       "140               40.760875               -74.002777\n",
       "167               40.760875               -74.002777\n",
       "196               40.760875               -74.002777"
      ]
     },
     "execution_count": 96,
     "metadata": {},
     "output_type": "execute_result"
    }
   ],
   "source": [
    "#Finding out lat and long of 12 Ave & W 40 St for female \n",
    "df2 = df.loc[(df['start station name'] == '12 Ave & W 40 St'),['start station latitude','start station longitude']]\n",
    "df2.head()"
   ]
  },
  {
   "cell_type": "code",
   "execution_count": 97,
   "metadata": {},
   "outputs": [
    {
     "data": {
      "text/html": [
       "<div>\n",
       "<style scoped>\n",
       "    .dataframe tbody tr th:only-of-type {\n",
       "        vertical-align: middle;\n",
       "    }\n",
       "\n",
       "    .dataframe tbody tr th {\n",
       "        vertical-align: top;\n",
       "    }\n",
       "\n",
       "    .dataframe thead th {\n",
       "        text-align: right;\n",
       "    }\n",
       "</style>\n",
       "<table border=\"1\" class=\"dataframe\">\n",
       "  <thead>\n",
       "    <tr style=\"text-align: right;\">\n",
       "      <th></th>\n",
       "      <th>start station latitude</th>\n",
       "      <th>start station longitude</th>\n",
       "    </tr>\n",
       "  </thead>\n",
       "  <tbody>\n",
       "    <tr>\n",
       "      <th>86</th>\n",
       "      <td>40.74174</td>\n",
       "      <td>-73.994156</td>\n",
       "    </tr>\n",
       "    <tr>\n",
       "      <th>102</th>\n",
       "      <td>40.74174</td>\n",
       "      <td>-73.994156</td>\n",
       "    </tr>\n",
       "    <tr>\n",
       "      <th>105</th>\n",
       "      <td>40.74174</td>\n",
       "      <td>-73.994156</td>\n",
       "    </tr>\n",
       "    <tr>\n",
       "      <th>365</th>\n",
       "      <td>40.74174</td>\n",
       "      <td>-73.994156</td>\n",
       "    </tr>\n",
       "    <tr>\n",
       "      <th>681</th>\n",
       "      <td>40.74174</td>\n",
       "      <td>-73.994156</td>\n",
       "    </tr>\n",
       "  </tbody>\n",
       "</table>\n",
       "</div>"
      ],
      "text/plain": [
       "     start station latitude  start station longitude\n",
       "86                 40.74174               -73.994156\n",
       "102                40.74174               -73.994156\n",
       "105                40.74174               -73.994156\n",
       "365                40.74174               -73.994156\n",
       "681                40.74174               -73.994156"
      ]
     },
     "execution_count": 97,
     "metadata": {},
     "output_type": "execute_result"
    }
   ],
   "source": [
    "#Finding out lat and long of W 21 St & 6 Ave for female \n",
    "df2 = df.loc[(df['start station name'] == 'W 21 St & 6 Ave'),['start station latitude','start station longitude']]\n",
    "df2.head()"
   ]
  },
  {
   "cell_type": "code",
   "execution_count": 98,
   "metadata": {},
   "outputs": [
    {
     "data": {
      "text/html": [
       "<div>\n",
       "<style scoped>\n",
       "    .dataframe tbody tr th:only-of-type {\n",
       "        vertical-align: middle;\n",
       "    }\n",
       "\n",
       "    .dataframe tbody tr th {\n",
       "        vertical-align: top;\n",
       "    }\n",
       "\n",
       "    .dataframe thead th {\n",
       "        text-align: right;\n",
       "    }\n",
       "</style>\n",
       "<table border=\"1\" class=\"dataframe\">\n",
       "  <thead>\n",
       "    <tr style=\"text-align: right;\">\n",
       "      <th></th>\n",
       "      <th>start station latitude</th>\n",
       "      <th>start station longitude</th>\n",
       "    </tr>\n",
       "  </thead>\n",
       "  <tbody>\n",
       "    <tr>\n",
       "      <th>391</th>\n",
       "      <td>40.73705</td>\n",
       "      <td>-73.990093</td>\n",
       "    </tr>\n",
       "    <tr>\n",
       "      <th>896</th>\n",
       "      <td>40.73705</td>\n",
       "      <td>-73.990093</td>\n",
       "    </tr>\n",
       "    <tr>\n",
       "      <th>946</th>\n",
       "      <td>40.73705</td>\n",
       "      <td>-73.990093</td>\n",
       "    </tr>\n",
       "    <tr>\n",
       "      <th>1050</th>\n",
       "      <td>40.73705</td>\n",
       "      <td>-73.990093</td>\n",
       "    </tr>\n",
       "    <tr>\n",
       "      <th>9072</th>\n",
       "      <td>40.73705</td>\n",
       "      <td>-73.990093</td>\n",
       "    </tr>\n",
       "  </tbody>\n",
       "</table>\n",
       "</div>"
      ],
      "text/plain": [
       "      start station latitude  start station longitude\n",
       "391                 40.73705               -73.990093\n",
       "896                 40.73705               -73.990093\n",
       "946                 40.73705               -73.990093\n",
       "1050                40.73705               -73.990093\n",
       "9072                40.73705               -73.990093"
      ]
     },
     "execution_count": 98,
     "metadata": {},
     "output_type": "execute_result"
    }
   ],
   "source": [
    "#Finding out lat and long of E 17 St & Broadway for female\n",
    "df2 = df.loc[(df['start station name'] == 'E 17 St & Broadway'),['start station latitude','start station longitude']]\n",
    "df2.head()"
   ]
  },
  {
   "cell_type": "code",
   "execution_count": 99,
   "metadata": {},
   "outputs": [
    {
     "data": {
      "text/html": [
       "<div>\n",
       "<style scoped>\n",
       "    .dataframe tbody tr th:only-of-type {\n",
       "        vertical-align: middle;\n",
       "    }\n",
       "\n",
       "    .dataframe tbody tr th {\n",
       "        vertical-align: top;\n",
       "    }\n",
       "\n",
       "    .dataframe thead th {\n",
       "        text-align: right;\n",
       "    }\n",
       "</style>\n",
       "<table border=\"1\" class=\"dataframe\">\n",
       "  <thead>\n",
       "    <tr style=\"text-align: right;\">\n",
       "      <th></th>\n",
       "      <th>start station latitude</th>\n",
       "      <th>start station longitude</th>\n",
       "    </tr>\n",
       "  </thead>\n",
       "  <tbody>\n",
       "    <tr>\n",
       "      <th>13</th>\n",
       "      <td>40.740343</td>\n",
       "      <td>-73.989551</td>\n",
       "    </tr>\n",
       "    <tr>\n",
       "      <th>811</th>\n",
       "      <td>40.740343</td>\n",
       "      <td>-73.989551</td>\n",
       "    </tr>\n",
       "    <tr>\n",
       "      <th>873</th>\n",
       "      <td>40.740343</td>\n",
       "      <td>-73.989551</td>\n",
       "    </tr>\n",
       "    <tr>\n",
       "      <th>1518</th>\n",
       "      <td>40.740343</td>\n",
       "      <td>-73.989551</td>\n",
       "    </tr>\n",
       "    <tr>\n",
       "      <th>2407</th>\n",
       "      <td>40.740343</td>\n",
       "      <td>-73.989551</td>\n",
       "    </tr>\n",
       "  </tbody>\n",
       "</table>\n",
       "</div>"
      ],
      "text/plain": [
       "      start station latitude  start station longitude\n",
       "13                 40.740343               -73.989551\n",
       "811                40.740343               -73.989551\n",
       "873                40.740343               -73.989551\n",
       "1518               40.740343               -73.989551\n",
       "2407               40.740343               -73.989551"
      ]
     },
     "execution_count": 99,
     "metadata": {},
     "output_type": "execute_result"
    }
   ],
   "source": [
    "#Finding out lat and long of Broadway & E 22 St for female\n",
    "df2 = df.loc[(df['start station name'] == 'Broadway & E 22 St'),['start station latitude','start station longitude']]\n",
    "df2.head()"
   ]
  },
  {
   "cell_type": "code",
   "execution_count": 100,
   "metadata": {},
   "outputs": [
    {
     "data": {
      "text/html": [
       "<div>\n",
       "<style scoped>\n",
       "    .dataframe tbody tr th:only-of-type {\n",
       "        vertical-align: middle;\n",
       "    }\n",
       "\n",
       "    .dataframe tbody tr th {\n",
       "        vertical-align: top;\n",
       "    }\n",
       "\n",
       "    .dataframe thead th {\n",
       "        text-align: right;\n",
       "    }\n",
       "</style>\n",
       "<table border=\"1\" class=\"dataframe\">\n",
       "  <thead>\n",
       "    <tr style=\"text-align: right;\">\n",
       "      <th></th>\n",
       "      <th>tripduration</th>\n",
       "      <th>starttime</th>\n",
       "      <th>stoptime</th>\n",
       "      <th>start station id</th>\n",
       "      <th>start station name</th>\n",
       "      <th>start station latitude</th>\n",
       "      <th>start station longitude</th>\n",
       "      <th>end station id</th>\n",
       "      <th>end station name</th>\n",
       "      <th>end station latitude</th>\n",
       "      <th>end station longitude</th>\n",
       "      <th>bikeid</th>\n",
       "      <th>usertype</th>\n",
       "      <th>birth year</th>\n",
       "      <th>gender</th>\n",
       "      <th>age</th>\n",
       "      <th>tripminutes</th>\n",
       "    </tr>\n",
       "  </thead>\n",
       "  <tbody>\n",
       "    <tr>\n",
       "      <th>0</th>\n",
       "      <td>897</td>\n",
       "      <td>2019-07-01 00:00:00.1320</td>\n",
       "      <td>2019-07-01 00:14:58.0040</td>\n",
       "      <td>493.0</td>\n",
       "      <td>W 45 St &amp; 6 Ave</td>\n",
       "      <td>40.756800</td>\n",
       "      <td>-73.982912</td>\n",
       "      <td>454.0</td>\n",
       "      <td>E 51 St &amp; 1 Ave</td>\n",
       "      <td>40.754557</td>\n",
       "      <td>-73.96593</td>\n",
       "      <td>18340</td>\n",
       "      <td>Subscriber</td>\n",
       "      <td>1966</td>\n",
       "      <td>1</td>\n",
       "      <td>44</td>\n",
       "      <td>14</td>\n",
       "    </tr>\n",
       "    <tr>\n",
       "      <th>1</th>\n",
       "      <td>267</td>\n",
       "      <td>2019-07-01 00:00:05.1780</td>\n",
       "      <td>2019-07-01 00:04:32.4500</td>\n",
       "      <td>3143.0</td>\n",
       "      <td>5 Ave &amp; E 78 St</td>\n",
       "      <td>40.776321</td>\n",
       "      <td>-73.964274</td>\n",
       "      <td>3226.0</td>\n",
       "      <td>W 82 St &amp; Central Park West</td>\n",
       "      <td>40.782750</td>\n",
       "      <td>-73.97137</td>\n",
       "      <td>21458</td>\n",
       "      <td>Customer</td>\n",
       "      <td>1996</td>\n",
       "      <td>1</td>\n",
       "      <td>14</td>\n",
       "      <td>4</td>\n",
       "    </tr>\n",
       "    <tr>\n",
       "      <th>2</th>\n",
       "      <td>2201</td>\n",
       "      <td>2019-07-01 00:00:05.2130</td>\n",
       "      <td>2019-07-01 00:36:46.7490</td>\n",
       "      <td>317.0</td>\n",
       "      <td>E 6 St &amp; Avenue B</td>\n",
       "      <td>40.724537</td>\n",
       "      <td>-73.981854</td>\n",
       "      <td>3469.0</td>\n",
       "      <td>India St &amp; West St</td>\n",
       "      <td>40.731814</td>\n",
       "      <td>-73.95995</td>\n",
       "      <td>39874</td>\n",
       "      <td>Subscriber</td>\n",
       "      <td>1986</td>\n",
       "      <td>1</td>\n",
       "      <td>24</td>\n",
       "      <td>36</td>\n",
       "    </tr>\n",
       "  </tbody>\n",
       "</table>\n",
       "</div>"
      ],
      "text/plain": [
       "   tripduration                 starttime                  stoptime  \\\n",
       "0           897  2019-07-01 00:00:00.1320  2019-07-01 00:14:58.0040   \n",
       "1           267  2019-07-01 00:00:05.1780  2019-07-01 00:04:32.4500   \n",
       "2          2201  2019-07-01 00:00:05.2130  2019-07-01 00:36:46.7490   \n",
       "\n",
       "   start station id start station name  start station latitude  \\\n",
       "0             493.0    W 45 St & 6 Ave               40.756800   \n",
       "1            3143.0    5 Ave & E 78 St               40.776321   \n",
       "2             317.0  E 6 St & Avenue B               40.724537   \n",
       "\n",
       "   start station longitude  end station id             end station name  \\\n",
       "0               -73.982912           454.0              E 51 St & 1 Ave   \n",
       "1               -73.964274          3226.0  W 82 St & Central Park West   \n",
       "2               -73.981854          3469.0           India St & West St   \n",
       "\n",
       "   end station latitude  end station longitude  bikeid    usertype  \\\n",
       "0             40.754557              -73.96593   18340  Subscriber   \n",
       "1             40.782750              -73.97137   21458    Customer   \n",
       "2             40.731814              -73.95995   39874  Subscriber   \n",
       "\n",
       "   birth year  gender age  tripminutes  \n",
       "0        1966       1  44           14  \n",
       "1        1996       1  14            4  \n",
       "2        1986       1  24           36  "
      ]
     },
     "execution_count": 100,
     "metadata": {},
     "output_type": "execute_result"
    }
   ],
   "source": [
    "#Filltering male by using query function \n",
    "df_male = df.query('gender==1')\n",
    "df_male.head(3)"
   ]
  },
  {
   "cell_type": "code",
   "execution_count": 144,
   "metadata": {},
   "outputs": [
    {
     "data": {
      "text/html": [
       "<div>\n",
       "<style scoped>\n",
       "    .dataframe tbody tr th:only-of-type {\n",
       "        vertical-align: middle;\n",
       "    }\n",
       "\n",
       "    .dataframe tbody tr th {\n",
       "        vertical-align: top;\n",
       "    }\n",
       "\n",
       "    .dataframe thead th {\n",
       "        text-align: right;\n",
       "    }\n",
       "</style>\n",
       "<table border=\"1\" class=\"dataframe\">\n",
       "  <thead>\n",
       "    <tr style=\"text-align: right;\">\n",
       "      <th></th>\n",
       "      <th>Station Name</th>\n",
       "      <th>Count</th>\n",
       "    </tr>\n",
       "  </thead>\n",
       "  <tbody>\n",
       "    <tr>\n",
       "      <th>0</th>\n",
       "      <td>Pershing Square North</td>\n",
       "      <td>13240</td>\n",
       "    </tr>\n",
       "    <tr>\n",
       "      <th>1</th>\n",
       "      <td>8 Ave &amp; W 31 St</td>\n",
       "      <td>10208</td>\n",
       "    </tr>\n",
       "    <tr>\n",
       "      <th>2</th>\n",
       "      <td>E 17 St &amp; Broadway</td>\n",
       "      <td>8664</td>\n",
       "    </tr>\n",
       "    <tr>\n",
       "      <th>3</th>\n",
       "      <td>Broadway &amp; E 22 St</td>\n",
       "      <td>8569</td>\n",
       "    </tr>\n",
       "    <tr>\n",
       "      <th>4</th>\n",
       "      <td>Christopher St &amp; Greenwich St</td>\n",
       "      <td>8111</td>\n",
       "    </tr>\n",
       "  </tbody>\n",
       "</table>\n",
       "</div>"
      ],
      "text/plain": [
       "                    Station Name  Count\n",
       "0          Pershing Square North  13240\n",
       "1                8 Ave & W 31 St  10208\n",
       "2             E 17 St & Broadway   8664\n",
       "3             Broadway & E 22 St   8569\n",
       "4  Christopher St & Greenwich St   8111"
      ]
     },
     "execution_count": 144,
     "metadata": {},
     "output_type": "execute_result"
    }
   ],
   "source": [
    "#Counting top 5 start stations for male only\n",
    "ftop5 = pd.DataFrame() \n",
    "ftop5['Station Name']=df_male['start station name'].value_counts().head().index\n",
    "ftop5['Count']=df_male['start station name'].value_counts().head().values\n",
    "#ftop5['Station Name'] = ftop5['Station Name'].cat.remove_unused_categories()\n",
    "ftop5['Station Name'] = ftop5['Station Name'].astype('object')\n",
    "ftop5.head()"
   ]
  },
  {
   "cell_type": "code",
   "execution_count": 105,
   "metadata": {},
   "outputs": [
    {
     "data": {
      "text/html": [
       "<div>\n",
       "<style scoped>\n",
       "    .dataframe tbody tr th:only-of-type {\n",
       "        vertical-align: middle;\n",
       "    }\n",
       "\n",
       "    .dataframe tbody tr th {\n",
       "        vertical-align: top;\n",
       "    }\n",
       "\n",
       "    .dataframe thead th {\n",
       "        text-align: right;\n",
       "    }\n",
       "</style>\n",
       "<table border=\"1\" class=\"dataframe\">\n",
       "  <thead>\n",
       "    <tr style=\"text-align: right;\">\n",
       "      <th></th>\n",
       "      <th>start station latitude</th>\n",
       "      <th>start station longitude</th>\n",
       "    </tr>\n",
       "  </thead>\n",
       "  <tbody>\n",
       "    <tr>\n",
       "      <th>13</th>\n",
       "      <td>40.740343</td>\n",
       "      <td>-73.989551</td>\n",
       "    </tr>\n",
       "    <tr>\n",
       "      <th>811</th>\n",
       "      <td>40.740343</td>\n",
       "      <td>-73.989551</td>\n",
       "    </tr>\n",
       "    <tr>\n",
       "      <th>873</th>\n",
       "      <td>40.740343</td>\n",
       "      <td>-73.989551</td>\n",
       "    </tr>\n",
       "    <tr>\n",
       "      <th>1518</th>\n",
       "      <td>40.740343</td>\n",
       "      <td>-73.989551</td>\n",
       "    </tr>\n",
       "    <tr>\n",
       "      <th>2407</th>\n",
       "      <td>40.740343</td>\n",
       "      <td>-73.989551</td>\n",
       "    </tr>\n",
       "  </tbody>\n",
       "</table>\n",
       "</div>"
      ],
      "text/plain": [
       "      start station latitude  start station longitude\n",
       "13                 40.740343               -73.989551\n",
       "811                40.740343               -73.989551\n",
       "873                40.740343               -73.989551\n",
       "1518               40.740343               -73.989551\n",
       "2407               40.740343               -73.989551"
      ]
     },
     "execution_count": 105,
     "metadata": {},
     "output_type": "execute_result"
    }
   ],
   "source": [
    "#Finding out lat and long of Broadway & E 22 St for male \n",
    "df3 = df.loc[(df['start station name'] == 'Broadway & E 22 St'),['start station latitude','start station longitude']]\n",
    "df3.head()"
   ]
  },
  {
   "cell_type": "code",
   "execution_count": 104,
   "metadata": {},
   "outputs": [
    {
     "data": {
      "text/html": [
       "<div>\n",
       "<style scoped>\n",
       "    .dataframe tbody tr th:only-of-type {\n",
       "        vertical-align: middle;\n",
       "    }\n",
       "\n",
       "    .dataframe tbody tr th {\n",
       "        vertical-align: top;\n",
       "    }\n",
       "\n",
       "    .dataframe thead th {\n",
       "        text-align: right;\n",
       "    }\n",
       "</style>\n",
       "<table border=\"1\" class=\"dataframe\">\n",
       "  <thead>\n",
       "    <tr style=\"text-align: right;\">\n",
       "      <th></th>\n",
       "      <th>start station latitude</th>\n",
       "      <th>start station longitude</th>\n",
       "    </tr>\n",
       "  </thead>\n",
       "  <tbody>\n",
       "    <tr>\n",
       "      <th>391</th>\n",
       "      <td>40.73705</td>\n",
       "      <td>-73.990093</td>\n",
       "    </tr>\n",
       "    <tr>\n",
       "      <th>896</th>\n",
       "      <td>40.73705</td>\n",
       "      <td>-73.990093</td>\n",
       "    </tr>\n",
       "    <tr>\n",
       "      <th>946</th>\n",
       "      <td>40.73705</td>\n",
       "      <td>-73.990093</td>\n",
       "    </tr>\n",
       "    <tr>\n",
       "      <th>1050</th>\n",
       "      <td>40.73705</td>\n",
       "      <td>-73.990093</td>\n",
       "    </tr>\n",
       "    <tr>\n",
       "      <th>9072</th>\n",
       "      <td>40.73705</td>\n",
       "      <td>-73.990093</td>\n",
       "    </tr>\n",
       "  </tbody>\n",
       "</table>\n",
       "</div>"
      ],
      "text/plain": [
       "      start station latitude  start station longitude\n",
       "391                 40.73705               -73.990093\n",
       "896                 40.73705               -73.990093\n",
       "946                 40.73705               -73.990093\n",
       "1050                40.73705               -73.990093\n",
       "9072                40.73705               -73.990093"
      ]
     },
     "execution_count": 104,
     "metadata": {},
     "output_type": "execute_result"
    }
   ],
   "source": [
    "#Finding out lat and long of E 17 St & Broadway for male \n",
    "df3 = df.loc[(df['start station name'] == 'E 17 St & Broadway'),['start station latitude','start station longitude']]\n",
    "df3.head()"
   ]
  },
  {
   "cell_type": "code",
   "execution_count": 106,
   "metadata": {},
   "outputs": [
    {
     "data": {
      "text/html": [
       "<div>\n",
       "<style scoped>\n",
       "    .dataframe tbody tr th:only-of-type {\n",
       "        vertical-align: middle;\n",
       "    }\n",
       "\n",
       "    .dataframe tbody tr th {\n",
       "        vertical-align: top;\n",
       "    }\n",
       "\n",
       "    .dataframe thead th {\n",
       "        text-align: right;\n",
       "    }\n",
       "</style>\n",
       "<table border=\"1\" class=\"dataframe\">\n",
       "  <thead>\n",
       "    <tr style=\"text-align: right;\">\n",
       "      <th></th>\n",
       "      <th>start station latitude</th>\n",
       "      <th>start station longitude</th>\n",
       "    </tr>\n",
       "  </thead>\n",
       "  <tbody>\n",
       "    <tr>\n",
       "      <th>21</th>\n",
       "      <td>40.732916</td>\n",
       "      <td>-74.007114</td>\n",
       "    </tr>\n",
       "    <tr>\n",
       "      <th>183</th>\n",
       "      <td>40.732916</td>\n",
       "      <td>-74.007114</td>\n",
       "    </tr>\n",
       "    <tr>\n",
       "      <th>563</th>\n",
       "      <td>40.732916</td>\n",
       "      <td>-74.007114</td>\n",
       "    </tr>\n",
       "    <tr>\n",
       "      <th>629</th>\n",
       "      <td>40.732916</td>\n",
       "      <td>-74.007114</td>\n",
       "    </tr>\n",
       "    <tr>\n",
       "      <th>650</th>\n",
       "      <td>40.732916</td>\n",
       "      <td>-74.007114</td>\n",
       "    </tr>\n",
       "  </tbody>\n",
       "</table>\n",
       "</div>"
      ],
      "text/plain": [
       "     start station latitude  start station longitude\n",
       "21                40.732916               -74.007114\n",
       "183               40.732916               -74.007114\n",
       "563               40.732916               -74.007114\n",
       "629               40.732916               -74.007114\n",
       "650               40.732916               -74.007114"
      ]
     },
     "execution_count": 106,
     "metadata": {},
     "output_type": "execute_result"
    }
   ],
   "source": [
    "#Finding out lat and long of Christopher St & Greenwich St for male\n",
    "df3 = df.loc[(df['start station name'] == 'Christopher St & Greenwich St'),['start station latitude','start station longitude']]\n",
    "df3.head()"
   ]
  },
  {
   "cell_type": "code",
   "execution_count": 103,
   "metadata": {},
   "outputs": [
    {
     "data": {
      "text/html": [
       "<div>\n",
       "<style scoped>\n",
       "    .dataframe tbody tr th:only-of-type {\n",
       "        vertical-align: middle;\n",
       "    }\n",
       "\n",
       "    .dataframe tbody tr th {\n",
       "        vertical-align: top;\n",
       "    }\n",
       "\n",
       "    .dataframe thead th {\n",
       "        text-align: right;\n",
       "    }\n",
       "</style>\n",
       "<table border=\"1\" class=\"dataframe\">\n",
       "  <thead>\n",
       "    <tr style=\"text-align: right;\">\n",
       "      <th></th>\n",
       "      <th>start station latitude</th>\n",
       "      <th>start station longitude</th>\n",
       "    </tr>\n",
       "  </thead>\n",
       "  <tbody>\n",
       "    <tr>\n",
       "      <th>145</th>\n",
       "      <td>40.750585</td>\n",
       "      <td>-73.994685</td>\n",
       "    </tr>\n",
       "    <tr>\n",
       "      <th>286</th>\n",
       "      <td>40.750585</td>\n",
       "      <td>-73.994685</td>\n",
       "    </tr>\n",
       "    <tr>\n",
       "      <th>564</th>\n",
       "      <td>40.750585</td>\n",
       "      <td>-73.994685</td>\n",
       "    </tr>\n",
       "    <tr>\n",
       "      <th>568</th>\n",
       "      <td>40.750585</td>\n",
       "      <td>-73.994685</td>\n",
       "    </tr>\n",
       "    <tr>\n",
       "      <th>725</th>\n",
       "      <td>40.750585</td>\n",
       "      <td>-73.994685</td>\n",
       "    </tr>\n",
       "  </tbody>\n",
       "</table>\n",
       "</div>"
      ],
      "text/plain": [
       "     start station latitude  start station longitude\n",
       "145               40.750585               -73.994685\n",
       "286               40.750585               -73.994685\n",
       "564               40.750585               -73.994685\n",
       "568               40.750585               -73.994685\n",
       "725               40.750585               -73.994685"
      ]
     },
     "execution_count": 103,
     "metadata": {},
     "output_type": "execute_result"
    }
   ],
   "source": [
    "#Finding out lat and long of 8 Ave & W 31 St for male \n",
    "df3 = df.loc[(df['start station name'] == '8 Ave & W 31 St'),['start station latitude','start station longitude']]\n",
    "df3.head()"
   ]
  },
  {
   "cell_type": "code",
   "execution_count": 102,
   "metadata": {},
   "outputs": [
    {
     "data": {
      "text/html": [
       "<div>\n",
       "<style scoped>\n",
       "    .dataframe tbody tr th:only-of-type {\n",
       "        vertical-align: middle;\n",
       "    }\n",
       "\n",
       "    .dataframe tbody tr th {\n",
       "        vertical-align: top;\n",
       "    }\n",
       "\n",
       "    .dataframe thead th {\n",
       "        text-align: right;\n",
       "    }\n",
       "</style>\n",
       "<table border=\"1\" class=\"dataframe\">\n",
       "  <thead>\n",
       "    <tr style=\"text-align: right;\">\n",
       "      <th></th>\n",
       "      <th>start station latitude</th>\n",
       "      <th>start station longitude</th>\n",
       "    </tr>\n",
       "  </thead>\n",
       "  <tbody>\n",
       "    <tr>\n",
       "      <th>319</th>\n",
       "      <td>40.751873</td>\n",
       "      <td>-73.977706</td>\n",
       "    </tr>\n",
       "    <tr>\n",
       "      <th>496</th>\n",
       "      <td>40.751873</td>\n",
       "      <td>-73.977706</td>\n",
       "    </tr>\n",
       "    <tr>\n",
       "      <th>769</th>\n",
       "      <td>40.751873</td>\n",
       "      <td>-73.977706</td>\n",
       "    </tr>\n",
       "    <tr>\n",
       "      <th>1166</th>\n",
       "      <td>40.751873</td>\n",
       "      <td>-73.977706</td>\n",
       "    </tr>\n",
       "    <tr>\n",
       "      <th>1411</th>\n",
       "      <td>40.751873</td>\n",
       "      <td>-73.977706</td>\n",
       "    </tr>\n",
       "  </tbody>\n",
       "</table>\n",
       "</div>"
      ],
      "text/plain": [
       "      start station latitude  start station longitude\n",
       "319                40.751873               -73.977706\n",
       "496                40.751873               -73.977706\n",
       "769                40.751873               -73.977706\n",
       "1166               40.751873               -73.977706\n",
       "1411               40.751873               -73.977706"
      ]
     },
     "execution_count": 102,
     "metadata": {},
     "output_type": "execute_result"
    }
   ],
   "source": [
    "#Finding out lat and long of Pershing Square North for male\n",
    "df3 = df.loc[(df['start station name'] == 'Pershing Square North'),['start station latitude','start station longitude']]\n",
    "df3.head()"
   ]
  },
  {
   "cell_type": "code",
   "execution_count": 107,
   "metadata": {},
   "outputs": [
    {
     "data": {
      "text/html": [
       "<div style=\"width:100%;\"><div style=\"position:relative;width:100%;height:0;padding-bottom:60%;\"><span style=\"color:#565656\">Make this Notebook Trusted to load map: File -> Trust Notebook</span><iframe src=\"about:blank\" style=\"position:absolute;width:100%;height:100%;left:0;top:0;border:none !important;\" data-html=%3C%21DOCTYPE%20html%3E%0A%3Chead%3E%20%20%20%20%0A%20%20%20%20%3Cmeta%20http-equiv%3D%22content-type%22%20content%3D%22text/html%3B%20charset%3DUTF-8%22%20/%3E%0A%20%20%20%20%0A%20%20%20%20%20%20%20%20%3Cscript%3E%0A%20%20%20%20%20%20%20%20%20%20%20%20L_NO_TOUCH%20%3D%20false%3B%0A%20%20%20%20%20%20%20%20%20%20%20%20L_DISABLE_3D%20%3D%20false%3B%0A%20%20%20%20%20%20%20%20%3C/script%3E%0A%20%20%20%20%0A%20%20%20%20%3Cstyle%3Ehtml%2C%20body%20%7Bwidth%3A%20100%25%3Bheight%3A%20100%25%3Bmargin%3A%200%3Bpadding%3A%200%3B%7D%3C/style%3E%0A%20%20%20%20%3Cstyle%3E%23map%20%7Bposition%3Aabsolute%3Btop%3A0%3Bbottom%3A0%3Bright%3A0%3Bleft%3A0%3B%7D%3C/style%3E%0A%20%20%20%20%3Cscript%20src%3D%22https%3A//cdn.jsdelivr.net/npm/leaflet%401.6.0/dist/leaflet.js%22%3E%3C/script%3E%0A%20%20%20%20%3Cscript%20src%3D%22https%3A//code.jquery.com/jquery-1.12.4.min.js%22%3E%3C/script%3E%0A%20%20%20%20%3Cscript%20src%3D%22https%3A//maxcdn.bootstrapcdn.com/bootstrap/3.2.0/js/bootstrap.min.js%22%3E%3C/script%3E%0A%20%20%20%20%3Cscript%20src%3D%22https%3A//cdnjs.cloudflare.com/ajax/libs/Leaflet.awesome-markers/2.0.2/leaflet.awesome-markers.js%22%3E%3C/script%3E%0A%20%20%20%20%3Clink%20rel%3D%22stylesheet%22%20href%3D%22https%3A//cdn.jsdelivr.net/npm/leaflet%401.6.0/dist/leaflet.css%22/%3E%0A%20%20%20%20%3Clink%20rel%3D%22stylesheet%22%20href%3D%22https%3A//maxcdn.bootstrapcdn.com/bootstrap/3.2.0/css/bootstrap.min.css%22/%3E%0A%20%20%20%20%3Clink%20rel%3D%22stylesheet%22%20href%3D%22https%3A//maxcdn.bootstrapcdn.com/bootstrap/3.2.0/css/bootstrap-theme.min.css%22/%3E%0A%20%20%20%20%3Clink%20rel%3D%22stylesheet%22%20href%3D%22https%3A//maxcdn.bootstrapcdn.com/font-awesome/4.6.3/css/font-awesome.min.css%22/%3E%0A%20%20%20%20%3Clink%20rel%3D%22stylesheet%22%20href%3D%22https%3A//cdnjs.cloudflare.com/ajax/libs/Leaflet.awesome-markers/2.0.2/leaflet.awesome-markers.css%22/%3E%0A%20%20%20%20%3Clink%20rel%3D%22stylesheet%22%20href%3D%22https%3A//cdn.jsdelivr.net/gh/python-visualization/folium/folium/templates/leaflet.awesome.rotate.min.css%22/%3E%0A%20%20%20%20%0A%20%20%20%20%20%20%20%20%20%20%20%20%3Cmeta%20name%3D%22viewport%22%20content%3D%22width%3Ddevice-width%2C%0A%20%20%20%20%20%20%20%20%20%20%20%20%20%20%20%20initial-scale%3D1.0%2C%20maximum-scale%3D1.0%2C%20user-scalable%3Dno%22%20/%3E%0A%20%20%20%20%20%20%20%20%20%20%20%20%3Cstyle%3E%0A%20%20%20%20%20%20%20%20%20%20%20%20%20%20%20%20%23map_e5630da06d3c4c8ab01894426048b2e4%20%7B%0A%20%20%20%20%20%20%20%20%20%20%20%20%20%20%20%20%20%20%20%20position%3A%20relative%3B%0A%20%20%20%20%20%20%20%20%20%20%20%20%20%20%20%20%20%20%20%20width%3A%20650.0px%3B%0A%20%20%20%20%20%20%20%20%20%20%20%20%20%20%20%20%20%20%20%20height%3A%20550.0px%3B%0A%20%20%20%20%20%20%20%20%20%20%20%20%20%20%20%20%20%20%20%20left%3A%200.0%25%3B%0A%20%20%20%20%20%20%20%20%20%20%20%20%20%20%20%20%20%20%20%20top%3A%200.0%25%3B%0A%20%20%20%20%20%20%20%20%20%20%20%20%20%20%20%20%7D%0A%20%20%20%20%20%20%20%20%20%20%20%20%3C/style%3E%0A%20%20%20%20%20%20%20%20%0A%3C/head%3E%0A%3Cbody%3E%20%20%20%20%0A%20%20%20%20%0A%20%20%20%20%20%20%20%20%20%20%20%20%3Cdiv%20class%3D%22folium-map%22%20id%3D%22map_e5630da06d3c4c8ab01894426048b2e4%22%20%3E%3C/div%3E%0A%20%20%20%20%20%20%20%20%0A%3C/body%3E%0A%3Cscript%3E%20%20%20%20%0A%20%20%20%20%0A%20%20%20%20%20%20%20%20%20%20%20%20var%20map_e5630da06d3c4c8ab01894426048b2e4%20%3D%20L.map%28%0A%20%20%20%20%20%20%20%20%20%20%20%20%20%20%20%20%22map_e5630da06d3c4c8ab01894426048b2e4%22%2C%0A%20%20%20%20%20%20%20%20%20%20%20%20%20%20%20%20%7B%0A%20%20%20%20%20%20%20%20%20%20%20%20%20%20%20%20%20%20%20%20center%3A%20%5B40.71427%2C%20-74.00597%5D%2C%0A%20%20%20%20%20%20%20%20%20%20%20%20%20%20%20%20%20%20%20%20crs%3A%20L.CRS.EPSG3857%2C%0A%20%20%20%20%20%20%20%20%20%20%20%20%20%20%20%20%20%20%20%20zoom%3A%2012%2C%0A%20%20%20%20%20%20%20%20%20%20%20%20%20%20%20%20%20%20%20%20zoomControl%3A%20true%2C%0A%20%20%20%20%20%20%20%20%20%20%20%20%20%20%20%20%20%20%20%20preferCanvas%3A%20false%2C%0A%20%20%20%20%20%20%20%20%20%20%20%20%20%20%20%20%7D%0A%20%20%20%20%20%20%20%20%20%20%20%20%29%3B%0A%0A%20%20%20%20%20%20%20%20%20%20%20%20%0A%0A%20%20%20%20%20%20%20%20%0A%20%20%20%20%0A%20%20%20%20%20%20%20%20%20%20%20%20var%20tile_layer_df3b1902b001428cae8ced4365f87a79%20%3D%20L.tileLayer%28%0A%20%20%20%20%20%20%20%20%20%20%20%20%20%20%20%20%22https%3A//cartodb-basemaps-%7Bs%7D.global.ssl.fastly.net/light_all/%7Bz%7D/%7Bx%7D/%7By%7D.png%22%2C%0A%20%20%20%20%20%20%20%20%20%20%20%20%20%20%20%20%7B%22attribution%22%3A%20%22%5Cu0026copy%3B%20%5Cu003ca%20href%3D%5C%22http%3A//www.openstreetmap.org/copyright%5C%22%5Cu003eOpenStreetMap%5Cu003c/a%5Cu003e%20contributors%20%5Cu0026copy%3B%20%5Cu003ca%20href%3D%5C%22http%3A//cartodb.com/attributions%5C%22%5Cu003eCartoDB%5Cu003c/a%5Cu003e%2C%20CartoDB%20%5Cu003ca%20href%20%3D%5C%22http%3A//cartodb.com/attributions%5C%22%5Cu003eattributions%5Cu003c/a%5Cu003e%22%2C%20%22detectRetina%22%3A%20false%2C%20%22maxNativeZoom%22%3A%2018%2C%20%22maxZoom%22%3A%2018%2C%20%22minZoom%22%3A%200%2C%20%22noWrap%22%3A%20false%2C%20%22opacity%22%3A%201%2C%20%22subdomains%22%3A%20%22abc%22%2C%20%22tms%22%3A%20false%7D%0A%20%20%20%20%20%20%20%20%20%20%20%20%29.addTo%28map_e5630da06d3c4c8ab01894426048b2e4%29%3B%0A%20%20%20%20%20%20%20%20%0A%20%20%20%20%0A%20%20%20%20%20%20%20%20%20%20%20%20var%20marker_97754992256f452b99c912ee2dcc1fd4%20%3D%20L.marker%28%0A%20%20%20%20%20%20%20%20%20%20%20%20%20%20%20%20%5B40.717548%2C%20-74.013221%5D%2C%0A%20%20%20%20%20%20%20%20%20%20%20%20%20%20%20%20%7B%7D%0A%20%20%20%20%20%20%20%20%20%20%20%20%29.addTo%28map_e5630da06d3c4c8ab01894426048b2e4%29%3B%0A%20%20%20%20%20%20%20%20%0A%20%20%20%20%0A%20%20%20%20%20%20%20%20%20%20%20%20var%20icon_c48ad07fe759441db8803af81cc9866f%20%3D%20L.AwesomeMarkers.icon%28%0A%20%20%20%20%20%20%20%20%20%20%20%20%20%20%20%20%7B%22extraClasses%22%3A%20%22fa-rotate-0%22%2C%20%22icon%22%3A%20%22none%22%2C%20%22iconColor%22%3A%20%22white%22%2C%20%22markerColor%22%3A%20%22red%22%2C%20%22prefix%22%3A%20%22glyphicon%22%7D%0A%20%20%20%20%20%20%20%20%20%20%20%20%29%3B%0A%20%20%20%20%20%20%20%20%20%20%20%20marker_97754992256f452b99c912ee2dcc1fd4.setIcon%28icon_c48ad07fe759441db8803af81cc9866f%29%3B%0A%20%20%20%20%20%20%20%20%0A%20%20%20%20%0A%20%20%20%20%20%20%20%20%20%20%20%20var%20marker_5374e6edf70249229cbc50a9682fbdd5%20%3D%20L.marker%28%0A%20%20%20%20%20%20%20%20%20%20%20%20%20%20%20%20%5B40.760875%2C%20-74.002777%5D%2C%0A%20%20%20%20%20%20%20%20%20%20%20%20%20%20%20%20%7B%7D%0A%20%20%20%20%20%20%20%20%20%20%20%20%29.addTo%28map_e5630da06d3c4c8ab01894426048b2e4%29%3B%0A%20%20%20%20%20%20%20%20%0A%20%20%20%20%0A%20%20%20%20%20%20%20%20%20%20%20%20var%20icon_b8f15092f75d4286b154f135aabd8ae2%20%3D%20L.AwesomeMarkers.icon%28%0A%20%20%20%20%20%20%20%20%20%20%20%20%20%20%20%20%7B%22extraClasses%22%3A%20%22fa-rotate-0%22%2C%20%22icon%22%3A%20%22none%22%2C%20%22iconColor%22%3A%20%22white%22%2C%20%22markerColor%22%3A%20%22red%22%2C%20%22prefix%22%3A%20%22glyphicon%22%7D%0A%20%20%20%20%20%20%20%20%20%20%20%20%29%3B%0A%20%20%20%20%20%20%20%20%20%20%20%20marker_5374e6edf70249229cbc50a9682fbdd5.setIcon%28icon_b8f15092f75d4286b154f135aabd8ae2%29%3B%0A%20%20%20%20%20%20%20%20%0A%20%20%20%20%0A%20%20%20%20%20%20%20%20%20%20%20%20var%20marker_fff70f31e146456eb301b159b6677817%20%3D%20L.marker%28%0A%20%20%20%20%20%20%20%20%20%20%20%20%20%20%20%20%5B40.74174%2C%20-73.994156%5D%2C%0A%20%20%20%20%20%20%20%20%20%20%20%20%20%20%20%20%7B%7D%0A%20%20%20%20%20%20%20%20%20%20%20%20%29.addTo%28map_e5630da06d3c4c8ab01894426048b2e4%29%3B%0A%20%20%20%20%20%20%20%20%0A%20%20%20%20%0A%20%20%20%20%20%20%20%20%20%20%20%20var%20icon_e90540989ebe41ecbb2a0dd3a7d388a1%20%3D%20L.AwesomeMarkers.icon%28%0A%20%20%20%20%20%20%20%20%20%20%20%20%20%20%20%20%7B%22extraClasses%22%3A%20%22fa-rotate-0%22%2C%20%22icon%22%3A%20%22none%22%2C%20%22iconColor%22%3A%20%22white%22%2C%20%22markerColor%22%3A%20%22red%22%2C%20%22prefix%22%3A%20%22glyphicon%22%7D%0A%20%20%20%20%20%20%20%20%20%20%20%20%29%3B%0A%20%20%20%20%20%20%20%20%20%20%20%20marker_fff70f31e146456eb301b159b6677817.setIcon%28icon_e90540989ebe41ecbb2a0dd3a7d388a1%29%3B%0A%20%20%20%20%20%20%20%20%0A%20%20%20%20%0A%20%20%20%20%20%20%20%20%20%20%20%20var%20marker_1ff23e80997043f795fb89653793a175%20%3D%20L.marker%28%0A%20%20%20%20%20%20%20%20%20%20%20%20%20%20%20%20%5B40.73705%2C%20-73.990093%5D%2C%0A%20%20%20%20%20%20%20%20%20%20%20%20%20%20%20%20%7B%7D%0A%20%20%20%20%20%20%20%20%20%20%20%20%29.addTo%28map_e5630da06d3c4c8ab01894426048b2e4%29%3B%0A%20%20%20%20%20%20%20%20%0A%20%20%20%20%0A%20%20%20%20%20%20%20%20%20%20%20%20var%20icon_4cf3956e25c34881bf4b26e24af88570%20%3D%20L.AwesomeMarkers.icon%28%0A%20%20%20%20%20%20%20%20%20%20%20%20%20%20%20%20%7B%22extraClasses%22%3A%20%22fa-rotate-0%22%2C%20%22icon%22%3A%20%22none%22%2C%20%22iconColor%22%3A%20%22white%22%2C%20%22markerColor%22%3A%20%22green%22%2C%20%22prefix%22%3A%20%22glyphicon%22%7D%0A%20%20%20%20%20%20%20%20%20%20%20%20%29%3B%0A%20%20%20%20%20%20%20%20%20%20%20%20marker_1ff23e80997043f795fb89653793a175.setIcon%28icon_4cf3956e25c34881bf4b26e24af88570%29%3B%0A%20%20%20%20%20%20%20%20%0A%20%20%20%20%0A%20%20%20%20%20%20%20%20%20%20%20%20var%20marker_ced1284598ad4c9b82b8ccd7fafc2d7c%20%3D%20L.marker%28%0A%20%20%20%20%20%20%20%20%20%20%20%20%20%20%20%20%5B40.740343%2C%20-73.989551%5D%2C%0A%20%20%20%20%20%20%20%20%20%20%20%20%20%20%20%20%7B%7D%0A%20%20%20%20%20%20%20%20%20%20%20%20%29.addTo%28map_e5630da06d3c4c8ab01894426048b2e4%29%3B%0A%20%20%20%20%20%20%20%20%0A%20%20%20%20%0A%20%20%20%20%20%20%20%20%20%20%20%20var%20icon_7cebf2a058374084959b2bae8e05aafc%20%3D%20L.AwesomeMarkers.icon%28%0A%20%20%20%20%20%20%20%20%20%20%20%20%20%20%20%20%7B%22extraClasses%22%3A%20%22fa-rotate-0%22%2C%20%22icon%22%3A%20%22none%22%2C%20%22iconColor%22%3A%20%22white%22%2C%20%22markerColor%22%3A%20%22green%22%2C%20%22prefix%22%3A%20%22glyphicon%22%7D%0A%20%20%20%20%20%20%20%20%20%20%20%20%29%3B%0A%20%20%20%20%20%20%20%20%20%20%20%20marker_ced1284598ad4c9b82b8ccd7fafc2d7c.setIcon%28icon_7cebf2a058374084959b2bae8e05aafc%29%3B%0A%20%20%20%20%20%20%20%20%0A%20%20%20%20%0A%20%20%20%20%20%20%20%20%20%20%20%20var%20marker_5b5f837bf9ae46838ead052ebffc0d9b%20%3D%20L.marker%28%0A%20%20%20%20%20%20%20%20%20%20%20%20%20%20%20%20%5B40.751873%2C%20-73.977706%5D%2C%0A%20%20%20%20%20%20%20%20%20%20%20%20%20%20%20%20%7B%7D%0A%20%20%20%20%20%20%20%20%20%20%20%20%29.addTo%28map_e5630da06d3c4c8ab01894426048b2e4%29%3B%0A%20%20%20%20%20%20%20%20%0A%20%20%20%20%0A%20%20%20%20%20%20%20%20%20%20%20%20var%20icon_2132ac0eaab0417886fff6e21683f75f%20%3D%20L.AwesomeMarkers.icon%28%0A%20%20%20%20%20%20%20%20%20%20%20%20%20%20%20%20%7B%22extraClasses%22%3A%20%22fa-rotate-0%22%2C%20%22icon%22%3A%20%22none%22%2C%20%22iconColor%22%3A%20%22white%22%2C%20%22markerColor%22%3A%20%22blue%22%2C%20%22prefix%22%3A%20%22glyphicon%22%7D%0A%20%20%20%20%20%20%20%20%20%20%20%20%29%3B%0A%20%20%20%20%20%20%20%20%20%20%20%20marker_5b5f837bf9ae46838ead052ebffc0d9b.setIcon%28icon_2132ac0eaab0417886fff6e21683f75f%29%3B%0A%20%20%20%20%20%20%20%20%0A%20%20%20%20%0A%20%20%20%20%20%20%20%20var%20popup_f39710f8c3c343eba260184a87865502%20%3D%20L.popup%28%7B%22maxWidth%22%3A%20%22100%25%22%7D%29%3B%0A%0A%20%20%20%20%20%20%20%20%0A%20%20%20%20%20%20%20%20%20%20%20%20var%20html_70b31c1da13549c499ab9b61394f792e%20%3D%20%24%28%60%3Cdiv%20id%3D%22html_70b31c1da13549c499ab9b61394f792e%22%20style%3D%22width%3A%20100.0%25%3B%20height%3A%20100.0%25%3B%22%3ECustom%20Marker%201%3C/div%3E%60%29%5B0%5D%3B%0A%20%20%20%20%20%20%20%20%20%20%20%20popup_f39710f8c3c343eba260184a87865502.setContent%28html_70b31c1da13549c499ab9b61394f792e%29%3B%0A%20%20%20%20%20%20%20%20%0A%0A%20%20%20%20%20%20%20%20marker_5b5f837bf9ae46838ead052ebffc0d9b.bindPopup%28popup_f39710f8c3c343eba260184a87865502%29%0A%20%20%20%20%20%20%20%20%3B%0A%0A%20%20%20%20%20%20%20%20%0A%20%20%20%20%0A%20%20%20%20%0A%20%20%20%20%20%20%20%20%20%20%20%20var%20marker_622e077d769c480db007535b080b138b%20%3D%20L.marker%28%0A%20%20%20%20%20%20%20%20%20%20%20%20%20%20%20%20%5B40.750585%2C%20-73.994685%5D%2C%0A%20%20%20%20%20%20%20%20%20%20%20%20%20%20%20%20%7B%7D%0A%20%20%20%20%20%20%20%20%20%20%20%20%29.addTo%28map_e5630da06d3c4c8ab01894426048b2e4%29%3B%0A%20%20%20%20%20%20%20%20%0A%20%20%20%20%0A%20%20%20%20%20%20%20%20%20%20%20%20var%20icon_05bafe7d6eb5476fb71df11aad7c06ba%20%3D%20L.AwesomeMarkers.icon%28%0A%20%20%20%20%20%20%20%20%20%20%20%20%20%20%20%20%7B%22extraClasses%22%3A%20%22fa-rotate-0%22%2C%20%22icon%22%3A%20%22none%22%2C%20%22iconColor%22%3A%20%22white%22%2C%20%22markerColor%22%3A%20%22blue%22%2C%20%22prefix%22%3A%20%22glyphicon%22%7D%0A%20%20%20%20%20%20%20%20%20%20%20%20%29%3B%0A%20%20%20%20%20%20%20%20%20%20%20%20marker_622e077d769c480db007535b080b138b.setIcon%28icon_05bafe7d6eb5476fb71df11aad7c06ba%29%3B%0A%20%20%20%20%20%20%20%20%0A%20%20%20%20%0A%20%20%20%20%20%20%20%20var%20popup_44d07e51888f4d6fb85d46ab6c82f5b4%20%3D%20L.popup%28%7B%22maxWidth%22%3A%20%22100%25%22%7D%29%3B%0A%0A%20%20%20%20%20%20%20%20%0A%20%20%20%20%20%20%20%20%20%20%20%20var%20html_ca25d596033b4064bb9c5015732adcc7%20%3D%20%24%28%60%3Cdiv%20id%3D%22html_ca25d596033b4064bb9c5015732adcc7%22%20style%3D%22width%3A%20100.0%25%3B%20height%3A%20100.0%25%3B%22%3ECustom%20Marker%201%3C/div%3E%60%29%5B0%5D%3B%0A%20%20%20%20%20%20%20%20%20%20%20%20popup_44d07e51888f4d6fb85d46ab6c82f5b4.setContent%28html_ca25d596033b4064bb9c5015732adcc7%29%3B%0A%20%20%20%20%20%20%20%20%0A%0A%20%20%20%20%20%20%20%20marker_622e077d769c480db007535b080b138b.bindPopup%28popup_44d07e51888f4d6fb85d46ab6c82f5b4%29%0A%20%20%20%20%20%20%20%20%3B%0A%0A%20%20%20%20%20%20%20%20%0A%20%20%20%20%0A%20%20%20%20%0A%20%20%20%20%20%20%20%20%20%20%20%20var%20marker_f9123533faa747a6b045fd3006d880f9%20%3D%20L.marker%28%0A%20%20%20%20%20%20%20%20%20%20%20%20%20%20%20%20%5B40.732916%2C%20-74.007114%5D%2C%0A%20%20%20%20%20%20%20%20%20%20%20%20%20%20%20%20%7B%7D%0A%20%20%20%20%20%20%20%20%20%20%20%20%29.addTo%28map_e5630da06d3c4c8ab01894426048b2e4%29%3B%0A%20%20%20%20%20%20%20%20%0A%20%20%20%20%0A%20%20%20%20%20%20%20%20%20%20%20%20var%20icon_8200d3c5b39b41858e42f11f68e3d6c5%20%3D%20L.AwesomeMarkers.icon%28%0A%20%20%20%20%20%20%20%20%20%20%20%20%20%20%20%20%7B%22extraClasses%22%3A%20%22fa-rotate-0%22%2C%20%22icon%22%3A%20%22none%22%2C%20%22iconColor%22%3A%20%22white%22%2C%20%22markerColor%22%3A%20%22blue%22%2C%20%22prefix%22%3A%20%22glyphicon%22%7D%0A%20%20%20%20%20%20%20%20%20%20%20%20%29%3B%0A%20%20%20%20%20%20%20%20%20%20%20%20marker_f9123533faa747a6b045fd3006d880f9.setIcon%28icon_8200d3c5b39b41858e42f11f68e3d6c5%29%3B%0A%20%20%20%20%20%20%20%20%0A%20%20%20%20%0A%20%20%20%20%20%20%20%20var%20popup_7426474412cd4b54960e73cb90d83c20%20%3D%20L.popup%28%7B%22maxWidth%22%3A%20%22100%25%22%7D%29%3B%0A%0A%20%20%20%20%20%20%20%20%0A%20%20%20%20%20%20%20%20%20%20%20%20var%20html_03a981e94434460dad138731b8d57781%20%3D%20%24%28%60%3Cdiv%20id%3D%22html_03a981e94434460dad138731b8d57781%22%20style%3D%22width%3A%20100.0%25%3B%20height%3A%20100.0%25%3B%22%3ECustom%20Marker%201%3C/div%3E%60%29%5B0%5D%3B%0A%20%20%20%20%20%20%20%20%20%20%20%20popup_7426474412cd4b54960e73cb90d83c20.setContent%28html_03a981e94434460dad138731b8d57781%29%3B%0A%20%20%20%20%20%20%20%20%0A%0A%20%20%20%20%20%20%20%20marker_f9123533faa747a6b045fd3006d880f9.bindPopup%28popup_7426474412cd4b54960e73cb90d83c20%29%0A%20%20%20%20%20%20%20%20%3B%0A%0A%20%20%20%20%20%20%20%20%0A%20%20%20%20%0A%3C/script%3E onload=\"this.contentDocument.open();this.contentDocument.write(    decodeURIComponent(this.getAttribute('data-html')));this.contentDocument.close();\" allowfullscreen webkitallowfullscreen mozallowfullscreen></iframe></div></div>"
      ],
      "text/plain": [
       "<folium.folium.Map at 0x2d7896f7308>"
      ]
     },
     "execution_count": 107,
     "metadata": {},
     "output_type": "execute_result"
    }
   ],
   "source": [
    "# NYC latitude and longitude values\n",
    "latitude = 40.71427\n",
    "longitude = -74.00597\n",
    "\n",
    "#Creating map and display it\n",
    "NYC_map = folium.Map(width=650,height=550,location=[latitude, longitude],tiles='cartodbpositron', zoom_start=12)\n",
    "\n",
    "#Displaying top stations for females\n",
    "\n",
    "#Displaying lag and long for West St & Chambers St\n",
    "folium.Marker(location=[40.717548,-74.013221],icon=folium.Icon(color='red',icon='none')).add_to(NYC_map)\n",
    "\n",
    "#Displaying 12 Ave & W 40 St Station\n",
    "folium.Marker(location=[40.760875,-74.002777],icon=folium.Icon(color='red',icon='none')).add_to(NYC_map)\n",
    "\n",
    "#Displaying lag and long for W 21 St & 6 Ave\n",
    "folium.Marker(location=[40.74174,-73.994156],icon=folium.Icon(color='red',icon='none')).add_to(NYC_map)\n",
    "\n",
    "\n",
    "#Bike Stations popular among both men and women\n",
    "\n",
    "#Displaying lag and long for E 17 St & Broadway\n",
    "folium.Marker(location=[40.73705,-73.990093],icon=folium.Icon(color='green',icon='none')).add_to(NYC_map)\n",
    "\n",
    "#Displaying lag and long for Broadway & E 22 St\n",
    "folium.Marker(location=[40.740343,-73.989551],icon=folium.Icon(color='green',icon='none')).add_to(NYC_map)\n",
    "\n",
    "\n",
    "#Displaying top stations for males\n",
    "\n",
    "#Displaying lag and long for Pershing Square North\n",
    "folium.Marker(location=[40.751873,-73.977706],popup='Custom Marker 1',icon=folium.Icon(color='blue',icon='none')).add_to(NYC_map)\n",
    "\n",
    "#Displaying lag and long for 8 Ave & W 31 St\n",
    "folium.Marker(location=[40.750585, -73.994685],popup='Custom Marker 1',icon=folium.Icon(color='blue',icon='none')).add_to(NYC_map)\n",
    "\n",
    "#Displaying lag and long for Christopher St & Greenwich St\n",
    "folium.Marker(location=[40.732916,-74.007114],popup='Custom Marker 1',icon=folium.Icon(color='blue',icon='none')).add_to(NYC_map)\n",
    "# display the map of NYC\n",
    "NYC_map"
   ]
  },
  {
   "cell_type": "markdown",
   "metadata": {},
   "source": [
    "The most popular starting points among female and male Citi Bike rides are Broadway & E 22 St and E 12 St & Broadway, noted on the map below by the green marker on the East side of Manhattan.\n",
    "The most popular stations only for males are noted in blue. The most popular stations only for females are noted in red."
   ]
  }
 ],
 "metadata": {
  "kernelspec": {
   "display_name": "Python 3",
   "language": "python",
   "name": "python3"
  },
  "language_info": {
   "codemirror_mode": {
    "name": "ipython",
    "version": 3
   },
   "file_extension": ".py",
   "mimetype": "text/x-python",
   "name": "python",
   "nbconvert_exporter": "python",
   "pygments_lexer": "ipython3",
   "version": "3.7.6"
  }
 },
 "nbformat": 4,
 "nbformat_minor": 4
}
